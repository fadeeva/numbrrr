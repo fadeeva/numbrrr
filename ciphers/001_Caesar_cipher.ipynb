{
  "nbformat": 4,
  "nbformat_minor": 0,
  "metadata": {
    "colab": {
      "provenance": [],
      "toc_visible": true,
      "authorship_tag": "ABX9TyOu4VE3HnDSiUXpO2V8vsTQ"
    },
    "kernelspec": {
      "name": "python3",
      "display_name": "Python 3"
    },
    "language_info": {
      "name": "python"
    }
  },
  "cells": [
    {
      "cell_type": "code",
      "execution_count": 1,
      "metadata": {
        "id": "sQ7p3K6Qlxy9"
      },
      "outputs": [],
      "source": [
        "alph = 'АБВГДЕЖЗИЙКЛМНОПРСТУФХЦЧШЩЪЫЬЭЮЯ'\n",
        "N = len(alph)"
      ]
    },
    {
      "cell_type": "code",
      "source": [
        "def Caesar_cipher(msg, key, encrypt=True):\n",
        "    msg = msg.replace(' ', '').upper()\n",
        "    if encrypt:\n",
        "        result = [alph[(alph.index(m)+key)%N] for m in msg]\n",
        "    else:\n",
        "        result = [alph[(alph.index(m)-key)%N] for m in msg]\n",
        "\n",
        "    return ''.join(result)\n"
      ],
      "metadata": {
        "id": "BCF9be6OmZAs"
      },
      "execution_count": 3,
      "outputs": []
    },
    {
      "cell_type": "code",
      "source": [
        "Caesar_cipher('цезарь', 3)"
      ],
      "metadata": {
        "colab": {
          "base_uri": "https://localhost:8080/",
          "height": 35
        },
        "id": "6gEcNRFEomRX",
        "outputId": "3dd3b8b9-758f-4117-dd6b-9182e80940f4"
      },
      "execution_count": 4,
      "outputs": [
        {
          "output_type": "execute_result",
          "data": {
            "text/plain": [
              "'ЩИКГУЯ'"
            ],
            "application/vnd.google.colaboratory.intrinsic+json": {
              "type": "string"
            }
          },
          "metadata": {},
          "execution_count": 4
        }
      ]
    },
    {
      "cell_type": "code",
      "source": [
        "Caesar_cipher('ЩИКГУЯ', 3, False)"
      ],
      "metadata": {
        "colab": {
          "base_uri": "https://localhost:8080/",
          "height": 35
        },
        "id": "4d1ANJG5o67V",
        "outputId": "57073f5a-c13b-466f-bfa6-2b38e8617832"
      },
      "execution_count": 5,
      "outputs": [
        {
          "output_type": "execute_result",
          "data": {
            "text/plain": [
              "'ЦЕЗАРЬ'"
            ],
            "application/vnd.google.colaboratory.intrinsic+json": {
              "type": "string"
            }
          },
          "metadata": {},
          "execution_count": 5
        }
      ]
    },
    {
      "cell_type": "code",
      "source": [],
      "metadata": {
        "id": "w7BnEQ44o_Bn"
      },
      "execution_count": null,
      "outputs": []
    }
  ]
}