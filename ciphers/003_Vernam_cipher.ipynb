{
  "nbformat": 4,
  "nbformat_minor": 0,
  "metadata": {
    "colab": {
      "provenance": [],
      "toc_visible": true,
      "authorship_tag": "ABX9TyMfkqovaTckJozIrRlcEuto"
    },
    "kernelspec": {
      "name": "python3",
      "display_name": "Python 3"
    },
    "language_info": {
      "name": "python"
    }
  },
  "cells": [
    {
      "cell_type": "code",
      "execution_count": 2,
      "metadata": {
        "id": "YK09WtmmweoW"
      },
      "outputs": [],
      "source": [
        "alph = 'АБВГДЕЖЗИЙКЛМНОПРСТУФХЦЧШЩЪЫЬЭЮЯ'\n",
        "N = len(alph)\n",
        "\n",
        "enc = 'ФРЗОРРТЯЫРЗГТЭЕХКФЯБЮФМЫОМОЯЬ'\n",
        "dec = 'ДРАКАРИСОМ ЕГО НЕЛЬЗЯ ПОМИЛОВАТЬ'.replace(' ', '')\n",
        "gamma = 'РАЗДРАКОНДВАДРАКОНАТРИДРАКОНА'"
      ]
    },
    {
      "cell_type": "code",
      "source": [
        "decrypted = []\n",
        "for e, g in zip(enc, gamma):\n",
        "    decrypted.append(alph[(alph.index(e)-alph.index(g))%N])\n",
        "\n",
        "print(*decrypted, sep='')"
      ],
      "metadata": {
        "colab": {
          "base_uri": "https://localhost:8080/"
        },
        "id": "_x4WAf8hxpjS",
        "outputId": "4e008590-adf2-45ea-a478-a251b1090ff5"
      },
      "execution_count": 7,
      "outputs": [
        {
          "output_type": "stream",
          "name": "stdout",
          "text": [
            "ДРАКАРИСОМЕГОНЕЛЬЗЯПОМИЛОВАТЬ\n"
          ]
        }
      ]
    },
    {
      "cell_type": "code",
      "source": [
        "dec == ''.join(decrypted)"
      ],
      "metadata": {
        "id": "efA1uFCcMppx",
        "outputId": "0ee98281-74e4-496c-81a8-4c9dfdb31440",
        "colab": {
          "base_uri": "https://localhost:8080/"
        }
      },
      "execution_count": 8,
      "outputs": [
        {
          "output_type": "execute_result",
          "data": {
            "text/plain": [
              "True"
            ]
          },
          "metadata": {},
          "execution_count": 8
        }
      ]
    },
    {
      "cell_type": "code",
      "source": [
        "encrypted = []\n",
        "\n",
        "for d, g in zip(dec, gamma):\n",
        "    encrypted.append(alph[(alph.index(d)+alph.index(g))%N])\n",
        "\n",
        "print(*encrypted, sep='')"
      ],
      "metadata": {
        "id": "fDs9vRbfyFXH",
        "outputId": "031127e9-878d-497e-aa82-5365b7f3c5ae",
        "colab": {
          "base_uri": "https://localhost:8080/"
        }
      },
      "execution_count": 5,
      "outputs": [
        {
          "output_type": "stream",
          "name": "stdout",
          "text": [
            "ФРЗОРРТЯЫРЗГТЭЕХКФЯБЮФМЫОМОЯЬ\n"
          ]
        }
      ]
    },
    {
      "cell_type": "code",
      "source": [
        "enc == ''.join(encrypted)"
      ],
      "metadata": {
        "id": "qdYeiauAMZ_0",
        "outputId": "636ccfbe-e9ea-4614-9cc4-8342827700ea",
        "colab": {
          "base_uri": "https://localhost:8080/"
        }
      },
      "execution_count": 6,
      "outputs": [
        {
          "output_type": "execute_result",
          "data": {
            "text/plain": [
              "True"
            ]
          },
          "metadata": {},
          "execution_count": 6
        }
      ]
    },
    {
      "cell_type": "code",
      "source": [],
      "metadata": {
        "id": "4NTgQr3tMnBh"
      },
      "execution_count": null,
      "outputs": []
    }
  ]
}