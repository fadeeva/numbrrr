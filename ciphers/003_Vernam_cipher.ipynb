{
  "nbformat": 4,
  "nbformat_minor": 0,
  "metadata": {
    "colab": {
      "provenance": [],
      "toc_visible": true,
      "authorship_tag": "ABX9TyNKlJkIhEBcFPMgxju4LjMY"
    },
    "kernelspec": {
      "name": "python3",
      "display_name": "Python 3"
    },
    "language_info": {
      "name": "python"
    }
  },
  "cells": [
    {
      "cell_type": "code",
      "execution_count": 1,
      "metadata": {
        "id": "YK09WtmmweoW"
      },
      "outputs": [],
      "source": [
        "alph = 'АБВГДЕЖЗИЙКЛМНОПРСТУФХЦЧШЩЪЫЬЭЮЯ'\n",
        "N = len(alph)\n",
        "\n",
        "enc = 'ФРЗОРРТЯЫРЗГТЭЕХКФЯБЮФМЫОМОЯЬ'\n",
        "gamma = 'РАЗДРАКОНДВАДРАКОНАТРИДРАКОНА'"
      ]
    },
    {
      "cell_type": "code",
      "source": [
        "decrypted = []\n",
        "for e, g in zip(enc, gamma):\n",
        "    decrypted.append(alph[(alph.index(e)-alph.index(g))%N])\n",
        "\n",
        "print(*decrypted, sep='')"
      ],
      "metadata": {
        "colab": {
          "base_uri": "https://localhost:8080/"
        },
        "id": "_x4WAf8hxpjS",
        "outputId": "38142ab2-65ee-434f-f629-0c00dc3c9c99"
      },
      "execution_count": 3,
      "outputs": [
        {
          "output_type": "stream",
          "name": "stdout",
          "text": [
            "ДРАКАРИСОМЕГОНЕЛЬЗЯПОМИЛОВАТЬ\n"
          ]
        }
      ]
    },
    {
      "cell_type": "code",
      "source": [],
      "metadata": {
        "id": "fDs9vRbfyFXH"
      },
      "execution_count": null,
      "outputs": []
    }
  ]
}