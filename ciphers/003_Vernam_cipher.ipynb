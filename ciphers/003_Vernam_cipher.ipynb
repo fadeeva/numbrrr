{
  "nbformat": 4,
  "nbformat_minor": 0,
  "metadata": {
    "colab": {
      "provenance": [],
      "toc_visible": true,
      "authorship_tag": "ABX9TyPRW2IYyNowoUrLiKuVI067"
    },
    "kernelspec": {
      "name": "python3",
      "display_name": "Python 3"
    },
    "language_info": {
      "name": "python"
    }
  },
  "cells": [
    {
      "cell_type": "code",
      "execution_count": 2,
      "metadata": {
        "id": "YK09WtmmweoW"
      },
      "outputs": [],
      "source": [
        "alph = 'АБВГДЕЖЗИЙКЛМНОПРСТУФХЦЧШЩЪЫЬЭЮЯ'\n",
        "N = len(alph)\n",
        "\n",
        "enc = 'ФРЗОРРТЯЫРЗГТЭЕХКФЯБЮФМЫОМОЯЬ'\n",
        "dec = 'ДРАКАРИСОМ ЕГО НЕЛЬЗЯ ПОМИЛОВАТЬ'.replace(' ', '')\n",
        "gamma = 'РАЗДРАКОНДВАДРАКОНАТРИДРАКОНА'"
      ]
    },
    {
      "cell_type": "code",
      "source": [
        "decrypted = []\n",
        "for e, g in zip(enc, gamma):\n",
        "    decrypted.append(alph[(alph.index(e)-alph.index(g))%N])\n",
        "\n",
        "print(*decrypted, sep='')"
      ],
      "metadata": {
        "colab": {
          "base_uri": "https://localhost:8080/"
        },
        "id": "_x4WAf8hxpjS",
        "outputId": "4e008590-adf2-45ea-a478-a251b1090ff5"
      },
      "execution_count": null,
      "outputs": [
        {
          "output_type": "stream",
          "name": "stdout",
          "text": [
            "ДРАКАРИСОМЕГОНЕЛЬЗЯПОМИЛОВАТЬ\n"
          ]
        }
      ]
    },
    {
      "cell_type": "code",
      "source": [
        "dec == ''.join(decrypted)"
      ],
      "metadata": {
        "id": "efA1uFCcMppx",
        "outputId": "0ee98281-74e4-496c-81a8-4c9dfdb31440",
        "colab": {
          "base_uri": "https://localhost:8080/"
        }
      },
      "execution_count": null,
      "outputs": [
        {
          "output_type": "execute_result",
          "data": {
            "text/plain": [
              "True"
            ]
          },
          "metadata": {},
          "execution_count": 8
        }
      ]
    },
    {
      "cell_type": "code",
      "source": [
        "encrypted = []\n",
        "\n",
        "for d, g in zip(dec, gamma):\n",
        "    encrypted.append(alph[(alph.index(d)+alph.index(g))%N])\n",
        "\n",
        "print(*encrypted, sep='')"
      ],
      "metadata": {
        "id": "fDs9vRbfyFXH",
        "outputId": "031127e9-878d-497e-aa82-5365b7f3c5ae",
        "colab": {
          "base_uri": "https://localhost:8080/"
        }
      },
      "execution_count": null,
      "outputs": [
        {
          "output_type": "stream",
          "name": "stdout",
          "text": [
            "ФРЗОРРТЯЫРЗГТЭЕХКФЯБЮФМЫОМОЯЬ\n"
          ]
        }
      ]
    },
    {
      "cell_type": "code",
      "source": [
        "enc == ''.join(encrypted)"
      ],
      "metadata": {
        "id": "qdYeiauAMZ_0",
        "outputId": "636ccfbe-e9ea-4614-9cc4-8342827700ea",
        "colab": {
          "base_uri": "https://localhost:8080/"
        }
      },
      "execution_count": null,
      "outputs": [
        {
          "output_type": "execute_result",
          "data": {
            "text/plain": [
              "True"
            ]
          },
          "metadata": {},
          "execution_count": 6
        }
      ]
    },
    {
      "cell_type": "code",
      "source": [
        "def Vernam_cipher(msg, gamma, encrypt=True):\n",
        "    msg = msg.replace(' ', '').upper()\n",
        "    gamma = gamma.replace(' ', '').upper()\n",
        "    result = []\n",
        "    for m, g in zip(msg, gamma):\n",
        "        if encrypt:\n",
        "            result.append(alph[(alph.index(m) + alph.index(g)) % N ])\n",
        "        else:\n",
        "            result.append(alph[(alph.index(m) - alph.index(g)) % N ])\n",
        "\n",
        "    return ''.join(result)"
      ],
      "metadata": {
        "id": "4NTgQr3tMnBh"
      },
      "execution_count": 8,
      "outputs": []
    },
    {
      "cell_type": "code",
      "source": [
        "Vernam_cipher(dec, gamma, encrypt=True)"
      ],
      "metadata": {
        "id": "mazHEdGPghhf",
        "outputId": "6164ac29-d482-4b62-bae4-fbf510b5d6ce",
        "colab": {
          "base_uri": "https://localhost:8080/",
          "height": 35
        }
      },
      "execution_count": 9,
      "outputs": [
        {
          "output_type": "execute_result",
          "data": {
            "text/plain": [
              "'ФРЗОРРТЯЫРЗГТЭЕХКФЯБЮФМЫОМОЯЬ'"
            ],
            "application/vnd.google.colaboratory.intrinsic+json": {
              "type": "string"
            }
          },
          "metadata": {},
          "execution_count": 9
        }
      ]
    },
    {
      "cell_type": "code",
      "source": [
        "Vernam_cipher(enc, gamma, encrypt=False)"
      ],
      "metadata": {
        "id": "PJqmU9zCgwqj",
        "outputId": "e1fc0879-e1e2-41c1-f682-a7556b8bac38",
        "colab": {
          "base_uri": "https://localhost:8080/",
          "height": 35
        }
      },
      "execution_count": 10,
      "outputs": [
        {
          "output_type": "execute_result",
          "data": {
            "text/plain": [
              "'ДРАКАРИСОМЕГОНЕЛЬЗЯПОМИЛОВАТЬ'"
            ],
            "application/vnd.google.colaboratory.intrinsic+json": {
              "type": "string"
            }
          },
          "metadata": {},
          "execution_count": 10
        }
      ]
    },
    {
      "cell_type": "code",
      "source": [
        "Vernam_cipher('как это зашифровать', gamma, encrypt=True)"
      ],
      "metadata": {
        "id": "E3XOQoTphA5O",
        "outputId": "a151aa15-8e1c-419d-8c3c-c51db67020a2",
        "colab": {
          "base_uri": "https://localhost:8080/",
          "height": 35
        }
      },
      "execution_count": 11,
      "outputs": [
        {
          "output_type": "execute_result",
          "data": {
            "text/plain": [
              "'ЪАСБВОСОЕМЦРТТАЬК'"
            ],
            "application/vnd.google.colaboratory.intrinsic+json": {
              "type": "string"
            }
          },
          "metadata": {},
          "execution_count": 11
        }
      ]
    },
    {
      "cell_type": "code",
      "source": [
        "Vernam_cipher('ЪАСБВОСОЕМЦРТТАЬК', gamma, encrypt=False)"
      ],
      "metadata": {
        "id": "jo79hrV-hHhM",
        "outputId": "45731d54-56fa-40e7-9732-343c18e73cf4",
        "colab": {
          "base_uri": "https://localhost:8080/",
          "height": 35
        }
      },
      "execution_count": 13,
      "outputs": [
        {
          "output_type": "execute_result",
          "data": {
            "text/plain": [
              "'КАКЭТОЗАШИФРОВАТЬ'"
            ],
            "application/vnd.google.colaboratory.intrinsic+json": {
              "type": "string"
            }
          },
          "metadata": {},
          "execution_count": 13
        }
      ]
    },
    {
      "cell_type": "code",
      "source": [],
      "metadata": {
        "id": "V6mNM49KhPhG"
      },
      "execution_count": null,
      "outputs": []
    }
  ]
}