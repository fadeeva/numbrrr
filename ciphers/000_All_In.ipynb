{
  "nbformat": 4,
  "nbformat_minor": 0,
  "metadata": {
    "colab": {
      "provenance": [],
      "toc_visible": true,
      "authorship_tag": "ABX9TyMoun3VcGzz+r9AJYIG1i0N"
    },
    "kernelspec": {
      "name": "python3",
      "display_name": "Python 3"
    },
    "language_info": {
      "name": "python"
    }
  },
  "cells": [
    {
      "cell_type": "code",
      "execution_count": 1,
      "metadata": {
        "id": "fBFb9-uxAUtw"
      },
      "outputs": [],
      "source": [
        "import string\n",
        "import itertools\n",
        "from typing import Literal, Union"
      ]
    },
    {
      "cell_type": "code",
      "source": [
        "class Ciphers():\n",
        "    _ALPH = {\n",
        "        'ru': 'АБВГДЕЖЗИЙКЛМНОПРСТУФХЦЧШЩЪЫЬЭЮЯ',\n",
        "        'en': 'ABCDEFGHIJKLMNOPQRSTUVWXYZ'\n",
        "    }\n",
        "\n",
        "    def __init__(self, msg:str, key: Union[int, str], type:Literal['encrypt', 'decrypt']):\n",
        "        self.msg = self.clean_msg(msg)\n",
        "        self.key = key\n",
        "        self.type = type\n",
        "        self.alph = self.identify_alphabet()\n",
        "\n",
        "    def identify_alphabet(self)->str:\n",
        "        if self.msg[0] in self._ALPH['ru']:\n",
        "            return self._ALPH['ru']\n",
        "        return self._ALPH['en']\n",
        "\n",
        "    def clean_msg(self, msg:str)->str:\n",
        "        table = str.maketrans(dict.fromkeys(string.punctuation))\n",
        "        msg = msg.translate(table)\n",
        "        return msg.replace(' ', '').upper()\n",
        "\n",
        "    def Caesar(self)->str:\n",
        "        if not isinstance(self.key, int):\n",
        "            return 'Caesar cipher is FAILED. Key must be an integer.'\n",
        "\n",
        "        result = {\n",
        "            'encrypt': [self.alph[(self.alph.index(m)+self.key)%len(self.alph)] for m in self.msg],\n",
        "            'decrypt': [self.alph[(self.alph.index(m)-self.key)%len(self.alph)] for m in self.msg]\n",
        "        }\n",
        "\n",
        "        return ''.join(result[self.type])\n",
        "\n",
        "    def Vigenere(self)->str:\n",
        "        pass\n",
        "\n",
        "    def Vernam(self)->str:\n",
        "        pass\n"
      ],
      "metadata": {
        "id": "t45NoMuGAX2c"
      },
      "execution_count": 9,
      "outputs": []
    },
    {
      "cell_type": "code",
      "source": [
        "c = Ciphers('string. With. Punctuation?', 3, 'encrypt')\n",
        "c.Caesar()"
      ],
      "metadata": {
        "id": "lj36GmJWC-_Q",
        "outputId": "0ece0af3-0ab1-4f35-f334-15c579c1c746",
        "colab": {
          "base_uri": "https://localhost:8080/",
          "height": 35
        }
      },
      "execution_count": 10,
      "outputs": [
        {
          "output_type": "execute_result",
          "data": {
            "text/plain": [
              "'VWULQJZLWKSXQFWXDWLRQ'"
            ],
            "application/vnd.google.colaboratory.intrinsic+json": {
              "type": "string"
            }
          },
          "metadata": {},
          "execution_count": 10
        }
      ]
    },
    {
      "cell_type": "code",
      "source": [
        "c = Ciphers('VWULQJZLWKSXQFWXDWLRQ', 3, 'decrypt')\n",
        "c.Caesar()"
      ],
      "metadata": {
        "id": "LB3yACKD2wyt",
        "outputId": "d7f2acb9-b084-4a71-b0fe-adac53f5d4e9",
        "colab": {
          "base_uri": "https://localhost:8080/",
          "height": 35
        }
      },
      "execution_count": 11,
      "outputs": [
        {
          "output_type": "execute_result",
          "data": {
            "text/plain": [
              "'STRINGWITHPUNCTUATION'"
            ],
            "application/vnd.google.colaboratory.intrinsic+json": {
              "type": "string"
            }
          },
          "metadata": {},
          "execution_count": 11
        }
      ]
    },
    {
      "cell_type": "code",
      "source": [],
      "metadata": {
        "id": "N4V0Wvs1GZ30"
      },
      "execution_count": null,
      "outputs": []
    }
  ]
}