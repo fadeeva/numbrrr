{
  "nbformat": 4,
  "nbformat_minor": 0,
  "metadata": {
    "colab": {
      "provenance": [],
      "toc_visible": true,
      "authorship_tag": "ABX9TyMtMWzEpplQyokfBe95ejCo"
    },
    "kernelspec": {
      "name": "python3",
      "display_name": "Python 3"
    },
    "language_info": {
      "name": "python"
    }
  },
  "cells": [
    {
      "cell_type": "code",
      "execution_count": 1,
      "metadata": {
        "id": "fBFb9-uxAUtw"
      },
      "outputs": [],
      "source": [
        "import string\n",
        "import itertools\n",
        "from typing import Literal, Union"
      ]
    },
    {
      "cell_type": "code",
      "source": [
        "class Ciphers():\n",
        "    _ALPH = {\n",
        "        'ru': 'АБВГДЕЖЗИЙКЛМНОПРСТУФХЦЧШЩЪЫЬЭЮЯ',\n",
        "        'en': 'ABCDEFGHIJKLMNOPQRSTUVWXYZ'\n",
        "    }\n",
        "\n",
        "    def __init__(self, msg:str):\n",
        "        self.msg = self.clean(msg)\n",
        "        self.alph = self.identify_alphabet()\n",
        "\n",
        "    def identify_alphabet(self)->str:\n",
        "        if self.msg[0] in self._ALPH['ru']:\n",
        "            return self._ALPH['ru']\n",
        "        return self._ALPH['en']\n",
        "\n",
        "    def clean(self, msg:str)->str:\n",
        "        table = str.maketrans(dict.fromkeys(string.punctuation))\n",
        "        msg = msg.translate(table)\n",
        "        return msg.replace(' ', '').upper()\n",
        "\n",
        "    def is_key_creditable(self, key: Union[int, str], target: Union[int, str]):\n",
        "        return True if type(key)==target else False\n",
        "\n",
        "    def Caesar(self, key:int, type:Literal['encrypt', 'decrypt'])->str:\n",
        "        if not self.is_key_creditable(key, int):\n",
        "            return 'Check Key'\n",
        "\n",
        "        result = {\n",
        "            'encrypt': [self.alph[(self.alph.index(m)+key)%len(self.alph)] for m in self.msg],\n",
        "            'decrypt': [self.alph[(self.alph.index(m)-key)%len(self.alph)] for m in self.msg]\n",
        "        }\n",
        "        return ''.join(result[type])\n",
        "\n",
        "    def Vigenere(self, key:str, type:Literal['encrypt', 'decrypt'])->str:\n",
        "        if not self.is_key_creditable(key, 'str'):\n",
        "            return 'Check Key'\n",
        "\n",
        "        key = self.clean(key)\n",
        "        result = {\n",
        "            'encrypt': [self.alph[(self.alph.index(m)+self.alph.index(k))%len(self.alph)] for m, k in zip(self.msg, itertools.cycle(key))],\n",
        "            'decrypt': [self.alph[(self.alph.index(m)-self.alph.index(k))%len(self.alph)] for m, k in zip(self.msg, itertools.cycle(key))],\n",
        "        }\n",
        "        return ''.join(result[type])\n",
        "\n",
        "    def Vernam(self, key:str, type:Literal['encrypt', 'decrypt'])->str:\n",
        "        if not self.is_key_creditable(key, 'str'):\n",
        "            return 'Check Key'\n",
        "\n",
        "        key = self.clean(key)\n",
        "        if len(key)!=len(self.msg):\n",
        "            return 'The message and the key must be the same length.'\n",
        "\n",
        "        result = {\n",
        "            'encrypt': [self.alph[(self.alph.index(m)+self.alph.index(k))%len(self.alph)] for m, k in zip(self.msg, key)],\n",
        "            'decrypt': [self.alph[(self.alph.index(m)-self.alph.index(k))%len(self.alph)] for m, k in zip(self.msg, key)],\n",
        "        }\n",
        "        return ''.join(result[type])\n",
        "\n"
      ],
      "metadata": {
        "id": "t45NoMuGAX2c"
      },
      "execution_count": 18,
      "outputs": []
    },
    {
      "cell_type": "code",
      "source": [
        "c = Ciphers('string. With. Punctuation?')\n",
        "c.Caesar('3', 'encrypt')"
      ],
      "metadata": {
        "id": "lj36GmJWC-_Q",
        "outputId": "2f980ece-4249-4739-e0c9-ccba28998fe5",
        "colab": {
          "base_uri": "https://localhost:8080/",
          "height": 35
        }
      },
      "execution_count": 16,
      "outputs": [
        {
          "output_type": "execute_result",
          "data": {
            "text/plain": [
              "'Check Key'"
            ],
            "application/vnd.google.colaboratory.intrinsic+json": {
              "type": "string"
            }
          },
          "metadata": {},
          "execution_count": 16
        }
      ]
    },
    {
      "cell_type": "code",
      "source": [
        "c = Ciphers('VWULQJZLWKSXQFWXDWLRQ')\n",
        "c.Caesar(3, 'decrypt')"
      ],
      "metadata": {
        "id": "LB3yACKD2wyt",
        "outputId": "68245493-50fc-48b9-9382-8cc9d99cb9ca",
        "colab": {
          "base_uri": "https://localhost:8080/",
          "height": 35
        }
      },
      "execution_count": 17,
      "outputs": [
        {
          "output_type": "execute_result",
          "data": {
            "text/plain": [
              "'STRINGWITHPUNCTUATION'"
            ],
            "application/vnd.google.colaboratory.intrinsic+json": {
              "type": "string"
            }
          },
          "metadata": {},
          "execution_count": 17
        }
      ]
    },
    {
      "cell_type": "code",
      "source": [
        "c = Ciphers('string. With. Punctuation?')\n",
        "c.Vigenere('key', 'encrypt')"
      ],
      "metadata": {
        "id": "a_DJziv9GaWY",
        "outputId": "c130bdaf-2661-4fe1-f631-21b0536340cb",
        "colab": {
          "base_uri": "https://localhost:8080/",
          "height": 35
        }
      },
      "execution_count": null,
      "outputs": [
        {
          "output_type": "execute_result",
          "data": {
            "text/plain": [
              "'CXPSREGMRRTSXGREERSSL'"
            ],
            "application/vnd.google.colaboratory.intrinsic+json": {
              "type": "string"
            }
          },
          "metadata": {},
          "execution_count": 27
        }
      ]
    },
    {
      "cell_type": "code",
      "source": [],
      "metadata": {
        "id": "I4Bya9iYFGBU"
      },
      "execution_count": null,
      "outputs": []
    }
  ]
}