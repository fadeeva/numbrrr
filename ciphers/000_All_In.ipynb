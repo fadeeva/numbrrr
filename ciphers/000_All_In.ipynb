{
  "nbformat": 4,
  "nbformat_minor": 0,
  "metadata": {
    "colab": {
      "provenance": [],
      "toc_visible": true,
      "authorship_tag": "ABX9TyOY8GOwsp70bOA02rftSAax"
    },
    "kernelspec": {
      "name": "python3",
      "display_name": "Python 3"
    },
    "language_info": {
      "name": "python"
    }
  },
  "cells": [
    {
      "cell_type": "code",
      "execution_count": 1,
      "metadata": {
        "id": "fBFb9-uxAUtw"
      },
      "outputs": [],
      "source": [
        "import string\n",
        "import itertools\n",
        "from typing import Literal, Union"
      ]
    },
    {
      "cell_type": "code",
      "source": [
        "class Ciphers():\n",
        "    _ALPH = {\n",
        "        'ru': 'АБВГДЕЖЗИЙКЛМНОПРСТУФХЦЧШЩЪЫЬЭЮЯ',\n",
        "        'en': 'ABCDEFGHIJKLMNOPQRSTUVWXYZ'\n",
        "    }\n",
        "\n",
        "    def __init__(self, msg:str):\n",
        "        self.msg = self.clean(msg)\n",
        "        self.alph = self.identify_alphabet()\n",
        "\n",
        "    def identify_alphabet(self)->str:\n",
        "        if self.msg[0] in self._ALPH['ru']:\n",
        "            return self._ALPH['ru']\n",
        "        return self._ALPH['en']\n",
        "\n",
        "    def clean(self, msg:str)->str:\n",
        "        table = str.maketrans(dict.fromkeys(string.punctuation))\n",
        "        msg = msg.translate(table)\n",
        "        return msg.replace(' ', '').upper()\n",
        "\n",
        "    def Caesar(self, key:int, type:Literal['encrypt', 'decrypt'])->str:\n",
        "        if not isinstance(key, int):\n",
        "            return 'Caesar cipher is FAILED. Key must be an integer.'\n",
        "\n",
        "        result = {\n",
        "            'encrypt': [self.alph[(self.alph.index(m)+key)%len(self.alph)] for m in self.msg],\n",
        "            'decrypt': [self.alph[(self.alph.index(m)-key)%len(self.alph)] for m in self.msg]\n",
        "        }\n",
        "\n",
        "        return ''.join(result[type])\n",
        "\n",
        "    def Vigenere(self, key:str, type:Literal['encrypt', 'decrypt'])->str:\n",
        "        key = self.clean(key)\n",
        "        if not isinstance(key, str):\n",
        "            return 'Vigenere cipher is FAILED. Key must be a string.'\n",
        "\n",
        "        result = {\n",
        "            'encrypt': [self.alph[(self.alph.index(m)+self.alph.index(k))%len(self.alph)] for m, k in zip(self.msg, itertools.cycle(key))],\n",
        "            'decrypt': [self.alph[(self.alph.index(m)-self.alph.index(k))%len(self.alph)] for m, k in zip(self.msg, itertools.cycle(key))],\n",
        "        }\n",
        "\n",
        "        return ''.join(result[type])\n",
        "\n",
        "    def Vernam(self)->str:\n",
        "        pass\n"
      ],
      "metadata": {
        "id": "t45NoMuGAX2c"
      },
      "execution_count": 25,
      "outputs": []
    },
    {
      "cell_type": "code",
      "source": [
        "c = Ciphers('string. With. Punctuation?')\n",
        "c.Caesar(3, 'encrypt')"
      ],
      "metadata": {
        "id": "lj36GmJWC-_Q",
        "outputId": "e10e0c70-a55c-4df7-b887-9330c6e1022d",
        "colab": {
          "base_uri": "https://localhost:8080/",
          "height": 35
        }
      },
      "execution_count": 26,
      "outputs": [
        {
          "output_type": "execute_result",
          "data": {
            "text/plain": [
              "'VWULQJZLWKSXQFWXDWLRQ'"
            ],
            "application/vnd.google.colaboratory.intrinsic+json": {
              "type": "string"
            }
          },
          "metadata": {},
          "execution_count": 26
        }
      ]
    },
    {
      "cell_type": "code",
      "source": [
        "c = Ciphers('VWULQJZLWKSXQFWXDWLRQ')\n",
        "c.Caesar(3, 'decrypt')"
      ],
      "metadata": {
        "id": "LB3yACKD2wyt",
        "outputId": "2090eb00-24be-452f-e7f9-09add0a5186c",
        "colab": {
          "base_uri": "https://localhost:8080/",
          "height": 35
        }
      },
      "execution_count": 14,
      "outputs": [
        {
          "output_type": "execute_result",
          "data": {
            "text/plain": [
              "'STRINGWITHPUNCTUATION'"
            ],
            "application/vnd.google.colaboratory.intrinsic+json": {
              "type": "string"
            }
          },
          "metadata": {},
          "execution_count": 14
        }
      ]
    },
    {
      "cell_type": "code",
      "source": [
        "c = Ciphers('string. With. Punctuation?')\n",
        "c.Vigenere('key', 'encrypt')"
      ],
      "metadata": {
        "id": "a_DJziv9GaWY",
        "outputId": "c130bdaf-2661-4fe1-f631-21b0536340cb",
        "colab": {
          "base_uri": "https://localhost:8080/",
          "height": 35
        }
      },
      "execution_count": 27,
      "outputs": [
        {
          "output_type": "execute_result",
          "data": {
            "text/plain": [
              "'CXPSREGMRRTSXGREERSSL'"
            ],
            "application/vnd.google.colaboratory.intrinsic+json": {
              "type": "string"
            }
          },
          "metadata": {},
          "execution_count": 27
        }
      ]
    },
    {
      "cell_type": "code",
      "source": [],
      "metadata": {
        "id": "I4Bya9iYFGBU"
      },
      "execution_count": null,
      "outputs": []
    }
  ]
}