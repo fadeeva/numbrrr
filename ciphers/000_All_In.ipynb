{
  "nbformat": 4,
  "nbformat_minor": 0,
  "metadata": {
    "colab": {
      "provenance": [],
      "toc_visible": true,
      "authorship_tag": "ABX9TyP5Zp6fQT1/JvcCu1VM98Fq"
    },
    "kernelspec": {
      "name": "python3",
      "display_name": "Python 3"
    },
    "language_info": {
      "name": "python"
    }
  },
  "cells": [
    {
      "cell_type": "code",
      "execution_count": 1,
      "metadata": {
        "id": "fBFb9-uxAUtw"
      },
      "outputs": [],
      "source": [
        "import string\n",
        "import itertools\n",
        "from typing import Literal, Union"
      ]
    },
    {
      "cell_type": "code",
      "source": [
        "class Ciphers():\n",
        "    _ALPH = {\n",
        "        'ru': 'АБВГДЕЖЗИЙКЛМНОПРСТУФХЦЧШЩЪЫЬЭЮЯ',\n",
        "        'en': 'ABCDEFGHIJKLMNOPQRSTUVWXYZ'\n",
        "    }\n",
        "\n",
        "    def __init__(self, msg:str):\n",
        "        self.msg = self.clean(msg)\n",
        "        self.alph = self.identify_alphabet()\n",
        "        self.N = len(self.alph)\n",
        "\n",
        "\n",
        "    def identify_alphabet(self)->str:\n",
        "        if self.msg[0] in self._ALPH['ru']:\n",
        "            return self._ALPH['ru']\n",
        "        return self._ALPH['en']\n",
        "\n",
        "\n",
        "    def clean(self, msg:str)->str:\n",
        "        table = str.maketrans(dict.fromkeys(string.punctuation))\n",
        "        msg = msg.translate(table)\n",
        "        return msg.replace(' ', '').upper()\n",
        "\n",
        "\n",
        "    def is_key_creditable(self, key: Union[int, str], target: Union[int, str]):\n",
        "        if type(key)==str and type(key)==target:\n",
        "            return True if key.upper()[0] in self.alph else False\n",
        "\n",
        "        return True if type(key)==target else False\n",
        "\n",
        "\n",
        "    def Caesar(self, key:int, type:Literal['encrypt', 'decrypt'])->str:\n",
        "        if not self.is_key_creditable(key, int):\n",
        "            return 'Check Key'\n",
        "\n",
        "        result = {\n",
        "            'encrypt': [self.alph[(self.alph.index(m)+key)%self.N] for m in self.msg],\n",
        "            'decrypt': [self.alph[(self.alph.index(m)-key)%self.N] for m in self.msg]\n",
        "        }\n",
        "        return ''.join(result[type])\n",
        "\n",
        "\n",
        "    def Vigenere(self, key:str, type:Literal['encrypt', 'decrypt'])->str:\n",
        "        if not self.is_key_creditable(key, str):\n",
        "            return 'Check Key'\n",
        "\n",
        "        key = self.clean(key)\n",
        "        result = {\n",
        "            'encrypt': [self.alph[(self.alph.index(m)+self.alph.index(k))%self.N] for m, k in zip(self.msg, itertools.cycle(key))],\n",
        "            'decrypt': [self.alph[(self.alph.index(m)-self.alph.index(k))%self.N] for m, k in zip(self.msg, itertools.cycle(key))],\n",
        "        }\n",
        "        return ''.join(result[type])\n",
        "\n",
        "\n",
        "    def Vernam(self, key:str, type:Literal['encrypt', 'decrypt'])->str:\n",
        "        if not self.is_key_creditable(key, str):\n",
        "            return 'Check Key'\n",
        "\n",
        "        key = self.clean(key)\n",
        "        if len(key)!=len(self.msg):\n",
        "            return 'The message and the key must be the same length.'\n",
        "\n",
        "        result = {\n",
        "            'encrypt': [self.alph[(self.alph.index(m)+self.alph.index(k))%self.N] for m, k in zip(self.msg, key)],\n",
        "            'decrypt': [self.alph[(self.alph.index(m)-self.alph.index(k))%self.N] for m, k in zip(self.msg, key)],\n",
        "        }\n",
        "        return ''.join(result[type])\n",
        "\n"
      ],
      "metadata": {
        "id": "t45NoMuGAX2c"
      },
      "execution_count": 10,
      "outputs": []
    },
    {
      "cell_type": "code",
      "source": [
        "c = Ciphers('string. With. Punctuation?')\n",
        "c.Caesar('3', 'encrypt')"
      ],
      "metadata": {
        "id": "lj36GmJWC-_Q",
        "outputId": "cadf3285-5b34-4287-90e3-cc97035579ab",
        "colab": {
          "base_uri": "https://localhost:8080/",
          "height": 35
        }
      },
      "execution_count": 11,
      "outputs": [
        {
          "output_type": "execute_result",
          "data": {
            "text/plain": [
              "'Check Key'"
            ],
            "application/vnd.google.colaboratory.intrinsic+json": {
              "type": "string"
            }
          },
          "metadata": {},
          "execution_count": 11
        }
      ]
    },
    {
      "cell_type": "code",
      "source": [
        "c.Caesar(3, 'encrypt')"
      ],
      "metadata": {
        "id": "JtCttuQEQEqq",
        "outputId": "7d4c8628-79fc-4122-aa84-1084fad420ea",
        "colab": {
          "base_uri": "https://localhost:8080/",
          "height": 35
        }
      },
      "execution_count": 12,
      "outputs": [
        {
          "output_type": "execute_result",
          "data": {
            "text/plain": [
              "'VWULQJZLWKSXQFWXDWLRQ'"
            ],
            "application/vnd.google.colaboratory.intrinsic+json": {
              "type": "string"
            }
          },
          "metadata": {},
          "execution_count": 12
        }
      ]
    },
    {
      "cell_type": "code",
      "source": [
        "c = Ciphers('VWULQJZLWKSXQFWXDWLRQ')\n",
        "c.Caesar(3, 'decrypt')"
      ],
      "metadata": {
        "id": "LB3yACKD2wyt",
        "outputId": "7ef25e9f-9cf4-4ef1-a15a-48afcde48434",
        "colab": {
          "base_uri": "https://localhost:8080/",
          "height": 35
        }
      },
      "execution_count": 13,
      "outputs": [
        {
          "output_type": "execute_result",
          "data": {
            "text/plain": [
              "'STRINGWITHPUNCTUATION'"
            ],
            "application/vnd.google.colaboratory.intrinsic+json": {
              "type": "string"
            }
          },
          "metadata": {},
          "execution_count": 13
        }
      ]
    },
    {
      "cell_type": "code",
      "source": [
        "c = Ciphers('string. With. Punctuation?')\n",
        "c.Vigenere('key', 'encrypt')"
      ],
      "metadata": {
        "id": "a_DJziv9GaWY",
        "outputId": "8ab9c9c8-df93-45dd-eba4-75af0e5f2a58",
        "colab": {
          "base_uri": "https://localhost:8080/",
          "height": 35
        }
      },
      "execution_count": 14,
      "outputs": [
        {
          "output_type": "execute_result",
          "data": {
            "text/plain": [
              "'CXPSREGMRRTSXGREERSSL'"
            ],
            "application/vnd.google.colaboratory.intrinsic+json": {
              "type": "string"
            }
          },
          "metadata": {},
          "execution_count": 14
        }
      ]
    },
    {
      "cell_type": "code",
      "source": [
        "c = Ciphers('string. With. Punctuation?')\n",
        "c.Vernam('PUNCTUATIONWITHSTRING', 'encrypt')"
      ],
      "metadata": {
        "id": "I4Bya9iYFGBU",
        "outputId": "90fd4f6b-5601-499f-a27a-2ec0b57fa1df",
        "colab": {
          "base_uri": "https://localhost:8080/",
          "height": 35
        }
      },
      "execution_count": 15,
      "outputs": [
        {
          "output_type": "execute_result",
          "data": {
            "text/plain": [
              "'HNEKGAWBBVCQVVAMTKQBT'"
            ],
            "application/vnd.google.colaboratory.intrinsic+json": {
              "type": "string"
            }
          },
          "metadata": {},
          "execution_count": 15
        }
      ]
    },
    {
      "cell_type": "code",
      "source": [],
      "metadata": {
        "id": "JITTX-UgQBRp"
      },
      "execution_count": null,
      "outputs": []
    }
  ]
}