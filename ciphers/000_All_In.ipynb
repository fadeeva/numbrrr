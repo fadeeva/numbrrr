{
  "nbformat": 4,
  "nbformat_minor": 0,
  "metadata": {
    "colab": {
      "provenance": [],
      "toc_visible": true,
      "authorship_tag": "ABX9TyPAwUMhTbeiD0gvESQtF7T8"
    },
    "kernelspec": {
      "name": "python3",
      "display_name": "Python 3"
    },
    "language_info": {
      "name": "python"
    }
  },
  "cells": [
    {
      "cell_type": "code",
      "execution_count": 9,
      "metadata": {
        "id": "fBFb9-uxAUtw"
      },
      "outputs": [],
      "source": [
        "import string\n",
        "import itertools\n",
        "from typing import Literal"
      ]
    },
    {
      "cell_type": "code",
      "source": [
        "class Ciphers():\n",
        "    _ALPH = {\n",
        "        'ru': 'АБВГДЕЖЗИЙКЛМНОПРСТУФХЦЧШЩЪЫЬЭЮЯ',\n",
        "        'en': 'ABCDEFGHIJKLMNOPQRSTUVWXYZ'\n",
        "    }\n",
        "\n",
        "    def __init__(self, msg, key, type:Literal['encrypt', 'decrypt']):\n",
        "        self.msg = self.clean_msg(msg)\n",
        "        self.key = key\n",
        "        self.type = type\n",
        "\n",
        "    def clean_msg(self, msg):\n",
        "        table = str.maketrans(dict.fromkeys(string.punctuation))\n",
        "        msg = msg.translate(table)\n",
        "        return msg.replace(' ', '').upper()\n",
        "\n",
        "    def print_msg(self):\n",
        "        return self.msg\n",
        "\n",
        "    def Caesar(self):\n",
        "        pass\n",
        "\n",
        "    def Vigenere(self):\n",
        "        pass\n",
        "\n",
        "    def Vernam(self):\n",
        "        pass\n"
      ],
      "metadata": {
        "id": "t45NoMuGAX2c"
      },
      "execution_count": 10,
      "outputs": []
    },
    {
      "cell_type": "code",
      "source": [
        "c = Ciphers('string. With. Punctuation?', 'abc', 'encrypt')\n",
        "c.print_msg()"
      ],
      "metadata": {
        "colab": {
          "base_uri": "https://localhost:8080/",
          "height": 35
        },
        "id": "lj36GmJWC-_Q",
        "outputId": "d301ef1f-0f52-4438-b213-c477edb1377f"
      },
      "execution_count": 11,
      "outputs": [
        {
          "output_type": "execute_result",
          "data": {
            "text/plain": [
              "'STRINGWITHPUNCTUATION'"
            ],
            "application/vnd.google.colaboratory.intrinsic+json": {
              "type": "string"
            }
          },
          "metadata": {},
          "execution_count": 11
        }
      ]
    }
  ]
}