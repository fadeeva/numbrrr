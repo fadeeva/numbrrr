{
  "nbformat": 4,
  "nbformat_minor": 0,
  "metadata": {
    "colab": {
      "provenance": [],
      "toc_visible": true,
      "authorship_tag": "ABX9TyNnYQ9EtMv1s9H9Lfqwiea8"
    },
    "kernelspec": {
      "name": "python3",
      "display_name": "Python 3"
    },
    "language_info": {
      "name": "python"
    }
  },
  "cells": [
    {
      "cell_type": "code",
      "execution_count": 1,
      "metadata": {
        "id": "fBFb9-uxAUtw"
      },
      "outputs": [],
      "source": [
        "import string\n",
        "import itertools\n",
        "from typing import Literal, Union"
      ]
    },
    {
      "cell_type": "code",
      "source": [
        "class Ciphers():\n",
        "    _ALPH = {\n",
        "        'ru': 'АБВГДЕЖЗИЙКЛМНОПРСТУФХЦЧШЩЪЫЬЭЮЯ',\n",
        "        'en': 'ABCDEFGHIJKLMNOPQRSTUVWXYZ'\n",
        "    }\n",
        "\n",
        "    def __init__(self, msg:str, key: Union[int, str], type:Literal['encrypt', 'decrypt']):\n",
        "        self.msg = self.clean_msg(msg)\n",
        "        self.key = key\n",
        "        self.type = type\n",
        "        self.alph = self.identify_alphabet()\n",
        "\n",
        "    def identify_alphabet(self)->str:\n",
        "        if self.msg[0] in self._ALPH['ru']:\n",
        "            return 'ru'\n",
        "        return 'en'\n",
        "\n",
        "    def clean_msg(self, msg:str)->str:\n",
        "        table = str.maketrans(dict.fromkeys(string.punctuation))\n",
        "        msg = msg.translate(table)\n",
        "        return msg.replace(' ', '').upper()\n",
        "\n",
        "    def Caesar(self)->str:\n",
        "        pass\n",
        "\n",
        "    def Vigenere(self)->str:\n",
        "        pass\n",
        "\n",
        "    def Vernam(self)->str:\n",
        "        pass\n"
      ],
      "metadata": {
        "id": "t45NoMuGAX2c"
      },
      "execution_count": 9,
      "outputs": []
    },
    {
      "cell_type": "code",
      "source": [
        "c = Ciphers('string. With. Punctuation?', 'abc', 'encrypt')"
      ],
      "metadata": {
        "id": "lj36GmJWC-_Q"
      },
      "execution_count": 8,
      "outputs": []
    },
    {
      "cell_type": "code",
      "source": [],
      "metadata": {
        "id": "LB3yACKD2wyt"
      },
      "execution_count": null,
      "outputs": []
    }
  ]
}