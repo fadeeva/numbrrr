{
  "nbformat": 4,
  "nbformat_minor": 0,
  "metadata": {
    "colab": {
      "provenance": [],
      "toc_visible": true,
      "authorship_tag": "ABX9TyN23Ux04tZAIHGg4+UjFva+"
    },
    "kernelspec": {
      "name": "python3",
      "display_name": "Python 3"
    },
    "language_info": {
      "name": "python"
    }
  },
  "cells": [
    {
      "cell_type": "code",
      "execution_count": 1,
      "metadata": {
        "id": "WCECcc70-3IN"
      },
      "outputs": [],
      "source": [
        "import itertools"
      ]
    },
    {
      "cell_type": "code",
      "source": [
        "alph = 'АБВГДЕЖЗИЙКЛМНОПРСТУФХЦЧШЩЪЫЬЭЮЯ'\n",
        "N = len(alph)"
      ],
      "metadata": {
        "id": "3BZAs77F-6hf"
      },
      "execution_count": 2,
      "outputs": []
    },
    {
      "cell_type": "code",
      "source": [
        "msg = 'И ДЫМ ОТЕЧЕСТВА НАМ СЛАДОК И ПРИЯТЕН'.replace(' ', '').upper()\n",
        "key = 'ПОЛНАЯ ПОБЕДА'.replace(' ', '').upper()"
      ],
      "metadata": {
        "id": "0dUY45LG_okw"
      },
      "execution_count": 5,
      "outputs": []
    },
    {
      "cell_type": "code",
      "source": [
        "encrypted = []\n",
        "for m, k in zip(msg, itertools.cycle(key)):\n",
        "    if m == ' ':\n",
        "        encrypted.append(m)\n",
        "        continue\n",
        "    encrypted.append(alph[ (alph.index(m) + alph.index(k)) % N ])\n"
      ],
      "metadata": {
        "id": "CpL5ouCfBF_c"
      },
      "execution_count": null,
      "outputs": []
    },
    {
      "cell_type": "code",
      "source": [
        "print(*encrypted, sep='')"
      ],
      "metadata": {
        "colab": {
          "base_uri": "https://localhost:8080/"
        },
        "id": "9D7DxDVkBqa6",
        "outputId": "b28d2c47-d8dc-4e56-caaa-ad977faa8b36"
      },
      "execution_count": null,
      "outputs": [
        {
          "output_type": "stream",
          "name": "stdout",
          "text": [
            "ЧТЖЩОСФЕЖЦЦВПЫЛЩСКПТППМПЯЦКЯЕМ\n"
          ]
        }
      ]
    },
    {
      "cell_type": "code",
      "source": [
        "msg = ''.join(encrypted)\n",
        "\n",
        "decrypted = []\n",
        "for m, k in zip(msg, itertools.cycle(key)):\n",
        "    if m == ' ':\n",
        "        decrypted.append(m)\n",
        "        continue\n",
        "    decrypted.append(alph[ (alph.index(m) - alph.index(k)) % N ])\n"
      ],
      "metadata": {
        "id": "1WdH-PO6Ceyp"
      },
      "execution_count": null,
      "outputs": []
    },
    {
      "cell_type": "code",
      "source": [
        "print(*decrypted, sep='')"
      ],
      "metadata": {
        "id": "XaminfBSHom6",
        "outputId": "d81fa110-ba5c-4a61-a5b4-4c8c31944346",
        "colab": {
          "base_uri": "https://localhost:8080/"
        }
      },
      "execution_count": null,
      "outputs": [
        {
          "output_type": "stream",
          "name": "stdout",
          "text": [
            "ИДЫМОТЕЧЕСТВАНАМСЛАДОКИПРИЯТЕН\n"
          ]
        }
      ]
    },
    {
      "cell_type": "code",
      "source": [
        "def Vigenre_cipher(msg, key, encrypt=True):\n",
        "    msg = msg.replace(' ', '').upper()\n",
        "    key = key.replace(' ', '').upper()\n",
        "    if encrypt:\n",
        "        result = [alph[(alph.index(m) + alph.index(k)) % N ] for m, k in zip(msg, itertools.cycle(key))]\n",
        "    else:\n",
        "        result = [alph[(alph.index(m) - alph.index(k)) % N ] for m, k in zip(msg, itertools.cycle(key))]\n",
        "\n",
        "    return ''.join(result)\n"
      ],
      "metadata": {
        "id": "sIW2LZfSHrCs"
      },
      "execution_count": 3,
      "outputs": []
    },
    {
      "cell_type": "code",
      "source": [
        "Vigenre_cipher('как это зашифровать', key, encrypt=True)"
      ],
      "metadata": {
        "id": "xDaSvVXNI7a2",
        "outputId": "7b103895-4a90-4c5b-8724-17a9913dcb22",
        "colab": {
          "base_uri": "https://localhost:8080/",
          "height": 35
        }
      },
      "execution_count": 6,
      "outputs": [
        {
          "output_type": "execute_result",
          "data": {
            "text/plain": [
              "'ЩОХКТНЦОЩНШРЭРЛЯЬ'"
            ],
            "application/vnd.google.colaboratory.intrinsic+json": {
              "type": "string"
            }
          },
          "metadata": {},
          "execution_count": 6
        }
      ]
    },
    {
      "cell_type": "code",
      "source": [
        "Vigenre_cipher('ЩОХКТНЦОЩНШРЭРЛЯЬ', key, encrypt=False)"
      ],
      "metadata": {
        "id": "5PnewDXPJEgn",
        "outputId": "3ffa1ace-0bf5-4233-8606-4c25b77f7f4f",
        "colab": {
          "base_uri": "https://localhost:8080/",
          "height": 35
        }
      },
      "execution_count": 7,
      "outputs": [
        {
          "output_type": "execute_result",
          "data": {
            "text/plain": [
              "'КАКЭТОЗАШИФРОВАТЬ'"
            ],
            "application/vnd.google.colaboratory.intrinsic+json": {
              "type": "string"
            }
          },
          "metadata": {},
          "execution_count": 7
        }
      ]
    },
    {
      "cell_type": "code",
      "source": [],
      "metadata": {
        "id": "xXOQG6enJKlp"
      },
      "execution_count": null,
      "outputs": []
    }
  ]
}