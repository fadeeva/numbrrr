{
  "nbformat": 4,
  "nbformat_minor": 0,
  "metadata": {
    "colab": {
      "provenance": [],
      "authorship_tag": "ABX9TyNqoNt8QrENZXZxs4G6VyKo"
    },
    "kernelspec": {
      "name": "python3",
      "display_name": "Python 3"
    },
    "language_info": {
      "name": "python"
    }
  },
  "cells": [
    {
      "cell_type": "code",
      "execution_count": 7,
      "metadata": {
        "id": "WCECcc70-3IN"
      },
      "outputs": [],
      "source": [
        "import itertools\n",
        "\n",
        "import numpy as np"
      ]
    },
    {
      "cell_type": "code",
      "source": [
        "alph = 'АБВГДЕЖЗИЙКЛМНОПРСТУФХЦЧШЩЪЫЬЭЮЯ'\n",
        "N = len(alph)"
      ],
      "metadata": {
        "id": "3BZAs77F-6hf"
      },
      "execution_count": 16,
      "outputs": []
    },
    {
      "cell_type": "code",
      "source": [
        "msg = 'И ДЫМ ОТЕЧЕСТВА НАМ СЛАДОК И ПРИЯТЕН'#.replace(' ', '')\n",
        "key = 'ПОЛНАЯ ПОБЕДА'.replace(' ', '')"
      ],
      "metadata": {
        "id": "0dUY45LG_okw"
      },
      "execution_count": 20,
      "outputs": []
    },
    {
      "cell_type": "code",
      "source": [
        "encrypted = []\n",
        "for m, k in zip(msg, itertools.cycle(key)):\n",
        "    if m == ' ':\n",
        "        encrypted.append(m)\n",
        "        continue\n",
        "    encrypted.append(alph[ (alph.index(m) + alph.index(k)) % N ])"
      ],
      "metadata": {
        "id": "CpL5ouCfBF_c"
      },
      "execution_count": 21,
      "outputs": []
    },
    {
      "cell_type": "code",
      "source": [
        "print(*encrypted, sep='')"
      ],
      "metadata": {
        "colab": {
          "base_uri": "https://localhost:8080/"
        },
        "id": "9D7DxDVkBqa6",
        "outputId": "6f61944f-40fc-40e6-d016-cfcb773e406c"
      },
      "execution_count": 23,
      "outputs": [
        {
          "output_type": "stream",
          "name": "stdout",
          "text": [
            "Ч ПИМ ЭАЖЬЙСБРЛ НЯЫ ТРДДЭШ Х ОЯЦАЧЙН\n"
          ]
        }
      ]
    },
    {
      "cell_type": "code",
      "source": [],
      "metadata": {
        "id": "1WdH-PO6Ceyp"
      },
      "execution_count": null,
      "outputs": []
    }
  ]
}