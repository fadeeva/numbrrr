{
  "nbformat": 4,
  "nbformat_minor": 0,
  "metadata": {
    "colab": {
      "provenance": [],
      "toc_visible": true,
      "authorship_tag": "ABX9TyManUht5lkC5uhL3iizrNUB"
    },
    "kernelspec": {
      "name": "python3",
      "display_name": "Python 3"
    },
    "language_info": {
      "name": "python"
    }
  },
  "cells": [
    {
      "cell_type": "code",
      "execution_count": 5,
      "metadata": {
        "id": "WCECcc70-3IN"
      },
      "outputs": [],
      "source": [
        "import itertools"
      ]
    },
    {
      "cell_type": "code",
      "source": [
        "alph = 'АБВГДЕЖЗИЙКЛМНОПРСТУФХЦЧШЩЪЫЬЭЮЯ'\n",
        "N = len(alph)"
      ],
      "metadata": {
        "id": "3BZAs77F-6hf"
      },
      "execution_count": 6,
      "outputs": []
    },
    {
      "cell_type": "code",
      "source": [
        "msg = 'И ДЫМ ОТЕЧЕСТВА НАМ СЛАДОК И ПРИЯТЕН'.replace(' ', '').upper()\n",
        "key = 'ПОЛНАЯ ПОБЕДА'.replace(' ', '').upper()"
      ],
      "metadata": {
        "id": "0dUY45LG_okw"
      },
      "execution_count": 7,
      "outputs": []
    },
    {
      "cell_type": "code",
      "source": [
        "encrypted = []\n",
        "for m, k in zip(msg, itertools.cycle(key)):\n",
        "    if m == ' ':\n",
        "        encrypted.append(m)\n",
        "        continue\n",
        "    encrypted.append(alph[ (alph.index(m) + alph.index(k)) % N ])\n",
        ""
      ],
      "metadata": {
        "id": "CpL5ouCfBF_c"
      },
      "execution_count": 8,
      "outputs": []
    },
    {
      "cell_type": "code",
      "source": [
        "print(*encrypted, sep='')"
      ],
      "metadata": {
        "colab": {
          "base_uri": "https://localhost:8080/"
        },
        "id": "9D7DxDVkBqa6",
        "outputId": "b28d2c47-d8dc-4e56-caaa-ad977faa8b36"
      },
      "execution_count": 9,
      "outputs": [
        {
          "output_type": "stream",
          "name": "stdout",
          "text": [
            "ЧТЖЩОСФЕЖЦЦВПЫЛЩСКПТППМПЯЦКЯЕМ\n"
          ]
        }
      ]
    },
    {
      "cell_type": "code",
      "source": [
        "msg = ''.join(encrypted)\n",
        "\n",
        "decrypted = []\n",
        "for m, k in zip(msg, itertools.cycle(key)):\n",
        "    if m == ' ':\n",
        "        decrypted.append(m)\n",
        "        continue\n",
        "    decrypted.append(alph[ (alph.index(m) - alph.index(k)) % N ])\n"
      ],
      "metadata": {
        "id": "1WdH-PO6Ceyp"
      },
      "execution_count": 10,
      "outputs": []
    },
    {
      "cell_type": "code",
      "source": [
        "print(*decrypted, sep='')"
      ],
      "metadata": {
        "id": "XaminfBSHom6",
        "outputId": "d81fa110-ba5c-4a61-a5b4-4c8c31944346",
        "colab": {
          "base_uri": "https://localhost:8080/"
        }
      },
      "execution_count": 11,
      "outputs": [
        {
          "output_type": "stream",
          "name": "stdout",
          "text": [
            "ИДЫМОТЕЧЕСТВАНАМСЛАДОКИПРИЯТЕН\n"
          ]
        }
      ]
    },
    {
      "cell_type": "code",
      "source": [
        "def Vigenre_cipher(msg, key, encrypt=True):\n",
        "    msg = msg.replace(' ', '').upper()\n",
        "    key = key.replace(' ', '').upper()\n",
        "    result = []\n",
        "    for m, k in zip(msg, itertools.cycle(key)):\n",
        "        if encrypt:\n",
        "            result.append(alph[(alph.index(m) + alph.index(k)) % N ])\n",
        "        else:\n",
        "            result.append(alph[(alph.index(m) - alph.index(k)) % N ])\n",
        "\n",
        "    return ''.join(result)\n"
      ],
      "metadata": {
        "id": "sIW2LZfSHrCs"
      },
      "execution_count": 14,
      "outputs": []
    },
    {
      "cell_type": "code",
      "source": [
        "Vigenre_cipher('как это зашифровать', key, encrypt=True)"
      ],
      "metadata": {
        "id": "xDaSvVXNI7a2",
        "outputId": "62395ab9-85bf-4906-ac6c-75b3fad019cf",
        "colab": {
          "base_uri": "https://localhost:8080/",
          "height": 35
        }
      },
      "execution_count": 15,
      "outputs": [
        {
          "output_type": "execute_result",
          "data": {
            "text/plain": [
              "'ЩОХКТНЦОЩНШРЭРЛЯЬ'"
            ],
            "application/vnd.google.colaboratory.intrinsic+json": {
              "type": "string"
            }
          },
          "metadata": {},
          "execution_count": 15
        }
      ]
    },
    {
      "cell_type": "code",
      "source": [
        "Vigenre_cipher('ЩОХКТНЦОЩНШРЭРЛЯЬ', key, encrypt=False)"
      ],
      "metadata": {
        "id": "5PnewDXPJEgn",
        "outputId": "c6b3c95b-3ab3-40e9-9a0c-4713de3cd9e8",
        "colab": {
          "base_uri": "https://localhost:8080/",
          "height": 35
        }
      },
      "execution_count": 16,
      "outputs": [
        {
          "output_type": "execute_result",
          "data": {
            "text/plain": [
              "'КАКЭТОЗАШИФРОВАТЬ'"
            ],
            "application/vnd.google.colaboratory.intrinsic+json": {
              "type": "string"
            }
          },
          "metadata": {},
          "execution_count": 16
        }
      ]
    },
    {
      "cell_type": "code",
      "source": [],
      "metadata": {
        "id": "xXOQG6enJKlp"
      },
      "execution_count": null,
      "outputs": []
    }
  ]
}