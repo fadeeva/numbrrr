{
 "cells": [
  {
   "cell_type": "code",
   "execution_count": 1,
   "metadata": {},
   "outputs": [],
   "source": [
    "import numpy as np"
   ]
  },
  {
   "cell_type": "code",
   "execution_count": 19,
   "metadata": {},
   "outputs": [],
   "source": [
    "class Gamma:\n",
    "    def __init__(self, rational_base):\n",
    "        self.gamma = rational_base\n",
    "    \n",
    "    def __str__(self):\n",
    "        return r'$γ_{r_base}$'.replace('r_base', str(self.gamma))\n",
    "    \n",
    "    def _repr_latex_(self):\n",
    "        return r'$γ_{r_base}$'.replace('r_base', str(self.gamma))\n",
    "    \n",
    "    def __eq__(self, other):\n",
    "        if isinstance(other, self.__class__):\n",
    "            return self.gamma == other.get()\n",
    "        raise NameError('Gamma\\'s can only be compared with each other')\n",
    "    \n",
    "    def __mul__(self, other_gamma):\n",
    "        if not other_gamma:\n",
    "            return self.gamma\n",
    "        elif isinstance(other, self.__class__):\n",
    "            return Gamma(self.gamma*other.get())\n",
    "        raise NameError('Gamma\\'s can only be multiplied with each other')\n",
    "    \n",
    "    def __truediv__(self, other):\n",
    "        if isinstance(other, self.__class__) and other.get():\n",
    "            return Gamma(self.gamma/other.get())\n",
    "        elif not isinstance(other, self.__class__) and other==self.gamma:\n",
    "            return Gamma(0)\n",
    "        raise NameError('Gamma\\'s can only be divided with each other')\n",
    "    \n",
    "    def __add__(self, other):\n",
    "        if isinstance(other, self.__class__):\n",
    "            return Gamma(self.gamma+other.get())\n",
    "        raise NameError('Gamma\\'s can only be added with each other')\n",
    "    \n",
    "    def __sub__(self, other):\n",
    "        if isinstance(other, self.__class__):\n",
    "            return Gamma(self.gamma-other.get())\n",
    "        raise NameError('Gamma\\'s can only be subtracted with each other')\n",
    "    \n",
    "    def get(self):\n",
    "        return self.gamma\n",
    "\n"
   ]
  },
  {
   "cell_type": "code",
   "execution_count": 20,
   "metadata": {},
   "outputs": [],
   "source": [
    "g1 = Gamma(17.5)\n",
    "g2 = Gamma(8.3)\n"
   ]
  },
  {
   "cell_type": "code",
   "execution_count": 5,
   "metadata": {},
   "outputs": [
    {
     "data": {
      "text/latex": [
       "$γ_{17.5}$"
      ],
      "text/plain": [
       "<__main__.Gamma at 0xc198e98>"
      ]
     },
     "execution_count": 5,
     "metadata": {},
     "output_type": "execute_result"
    }
   ],
   "source": [
    "g1"
   ]
  },
  {
   "cell_type": "code",
   "execution_count": 21,
   "metadata": {},
   "outputs": [
    {
     "data": {
      "text/latex": [
       "$γ_{0}$"
      ],
      "text/plain": [
       "<__main__.Gamma at 0xc1e24d8>"
      ]
     },
     "execution_count": 21,
     "metadata": {},
     "output_type": "execute_result"
    }
   ],
   "source": [
    "g1/17.5"
   ]
  },
  {
   "cell_type": "code",
   "execution_count": 136,
   "metadata": {},
   "outputs": [
    {
     "data": {
      "text/latex": [
       "$γ_{8.3}$"
      ],
      "text/plain": [
       "<__main__.Gamma at 0xc356940>"
      ]
     },
     "execution_count": 136,
     "metadata": {},
     "output_type": "execute_result"
    }
   ],
   "source": [
    "g2"
   ]
  },
  {
   "cell_type": "code",
   "execution_count": 133,
   "metadata": {},
   "outputs": [
    {
     "data": {
      "text/latex": [
       "$γ_{25.8}$"
      ],
      "text/plain": [
       "<__main__.Gamma at 0xc356c28>"
      ]
     },
     "execution_count": 133,
     "metadata": {},
     "output_type": "execute_result"
    }
   ],
   "source": [
    "g1+g2"
   ]
  },
  {
   "cell_type": "code",
   "execution_count": 5,
   "metadata": {},
   "outputs": [
    {
     "data": {
      "text/latex": [
       "$γ_{145.25}$"
      ],
      "text/plain": [
       "<__main__.Gamma at 0xc238b80>"
      ]
     },
     "execution_count": 5,
     "metadata": {},
     "output_type": "execute_result"
    }
   ],
   "source": [
    "g1*g2"
   ]
  },
  {
   "cell_type": "code",
   "execution_count": 4,
   "metadata": {},
   "outputs": [
    {
     "data": {
      "text/plain": [
       "17.5"
      ]
     },
     "execution_count": 4,
     "metadata": {},
     "output_type": "execute_result"
    }
   ],
   "source": [
    "g1*0"
   ]
  },
  {
   "cell_type": "code",
   "execution_count": 15,
   "metadata": {},
   "outputs": [
    {
     "data": {
      "text/latex": [
       "$γ_{2.108433734939759}$"
      ],
      "text/plain": [
       "<__main__.Gamma at 0xc1e22c8>"
      ]
     },
     "execution_count": 15,
     "metadata": {},
     "output_type": "execute_result"
    }
   ],
   "source": [
    "g1/g2"
   ]
  },
  {
   "cell_type": "code",
   "execution_count": 17,
   "metadata": {},
   "outputs": [
    {
     "ename": "NameError",
     "evalue": "Gamma's can only be multiplied with each other",
     "output_type": "error",
     "traceback": [
      "\u001b[1;31m---------------------------------------------------------------------------\u001b[0m",
      "\u001b[1;31mNameError\u001b[0m                                 Traceback (most recent call last)",
      "\u001b[1;32m<ipython-input-17-d656859a1065>\u001b[0m in \u001b[0;36m<module>\u001b[1;34m\u001b[0m\n\u001b[1;32m----> 1\u001b[1;33m \u001b[0mg1\u001b[0m\u001b[1;33m*\u001b[0m\u001b[1;36m1.2\u001b[0m\u001b[1;33m\u001b[0m\u001b[1;33m\u001b[0m\u001b[0m\n\u001b[0m",
      "\u001b[1;32m<ipython-input-15-b81f0df57457>\u001b[0m in \u001b[0;36m__mul__\u001b[1;34m(self, other_gamma)\u001b[0m\n\u001b[0;32m     12\u001b[0m             \u001b[1;32mreturn\u001b[0m \u001b[0mself\u001b[0m\u001b[1;33m.\u001b[0m\u001b[0mgamma\u001b[0m\u001b[1;33m*\u001b[0m\u001b[0mother_gamma\u001b[0m\u001b[1;33m.\u001b[0m\u001b[0mr_base\u001b[0m\u001b[1;33m(\u001b[0m\u001b[1;33m)\u001b[0m\u001b[1;33m\u001b[0m\u001b[1;33m\u001b[0m\u001b[0m\n\u001b[0;32m     13\u001b[0m \u001b[1;31m#         return NotImplemented\u001b[0m\u001b[1;33m\u001b[0m\u001b[1;33m\u001b[0m\u001b[1;33m\u001b[0m\u001b[0m\n\u001b[1;32m---> 14\u001b[1;33m         \u001b[1;32mraise\u001b[0m \u001b[0mNameError\u001b[0m\u001b[1;33m(\u001b[0m\u001b[1;34m'Gamma\\'s can only be multiplied with each other'\u001b[0m\u001b[1;33m)\u001b[0m\u001b[1;33m\u001b[0m\u001b[1;33m\u001b[0m\u001b[0m\n\u001b[0m\u001b[0;32m     15\u001b[0m \u001b[1;33m\u001b[0m\u001b[0m\n\u001b[0;32m     16\u001b[0m     \u001b[1;32mdef\u001b[0m \u001b[0m__truediv__\u001b[0m\u001b[1;33m(\u001b[0m\u001b[0mself\u001b[0m\u001b[1;33m,\u001b[0m \u001b[0mother_gamma\u001b[0m\u001b[1;33m)\u001b[0m\u001b[1;33m:\u001b[0m\u001b[1;33m\u001b[0m\u001b[1;33m\u001b[0m\u001b[0m\n",
      "\u001b[1;31mNameError\u001b[0m: Gamma's can only be multiplied with each other"
     ]
    }
   ],
   "source": [
    "g1*1.2"
   ]
  },
  {
   "cell_type": "code",
   "execution_count": 6,
   "metadata": {},
   "outputs": [
    {
     "data": {
      "text/latex": [
       "$γ_{0}$"
      ],
      "text/plain": [
       "<__main__.Gamma at 0xc2387c0>"
      ]
     },
     "execution_count": 6,
     "metadata": {},
     "output_type": "execute_result"
    }
   ],
   "source": [
    "g3 = Gamma(0)\n",
    "g3"
   ]
  },
  {
   "cell_type": "code",
   "execution_count": 7,
   "metadata": {},
   "outputs": [
    {
     "data": {
      "text/plain": [
       "0"
      ]
     },
     "execution_count": 7,
     "metadata": {},
     "output_type": "execute_result"
    }
   ],
   "source": [
    "g3*0"
   ]
  },
  {
   "cell_type": "code",
   "execution_count": 139,
   "metadata": {},
   "outputs": [
    {
     "data": {
      "text/latex": [
       "$γ_{1.3}$"
      ],
      "text/plain": [
       "<__main__.Gamma at 0x3c7f358>"
      ]
     },
     "execution_count": 139,
     "metadata": {},
     "output_type": "execute_result"
    }
   ],
   "source": [
    "try:\n",
    "    1.3 / 0\n",
    "except:\n",
    "    result = Gamma(1.3)\n",
    "\n",
    "result"
   ]
  },
  {
   "cell_type": "code",
   "execution_count": null,
   "metadata": {},
   "outputs": [],
   "source": []
  }
 ],
 "metadata": {
  "kernelspec": {
   "display_name": "Python 3",
   "language": "python",
   "name": "python3"
  },
  "language_info": {
   "codemirror_mode": {
    "name": "ipython",
    "version": 3
   },
   "file_extension": ".py",
   "mimetype": "text/x-python",
   "name": "python",
   "nbconvert_exporter": "python",
   "pygments_lexer": "ipython3",
   "version": "3.8.5"
  }
 },
 "nbformat": 4,
 "nbformat_minor": 2
}
