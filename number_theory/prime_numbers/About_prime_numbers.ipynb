{
 "cells": [
  {
   "cell_type": "code",
   "execution_count": 3,
   "metadata": {},
   "outputs": [],
   "source": [
    "import numpy as np\n",
    "import sympy as sp"
   ]
  },
  {
   "cell_type": "code",
   "execution_count": 17,
   "metadata": {},
   "outputs": [
    {
     "name": "stdout",
     "output_type": "stream",
     "text": [
      "5042\n",
      "5043\n",
      "5044\n",
      "5045\n",
      "5046\n",
      "5047\n"
     ]
    }
   ],
   "source": [
    "# для любого сколь угодно большого натурального числа m можно указать\n",
    "# m последовательных составных чисел\n",
    "m=6\n",
    "for i in range(2, m+2):\n",
    "    print(np.math.factorial(m+1)+i)"
   ]
  },
  {
   "cell_type": "code",
   "execution_count": 22,
   "metadata": {},
   "outputs": [],
   "source": [
    "A0 = np.array([1, 7*7, 7*11, 7*13])\n",
    "A1 = np.array([7*17, 7*19, 7*23, 11*11, 11*13, 11*17, 13*13])\n",
    "A2 = np.array([7*29, 7*31, 7*37, 7*41, 11*19, 11*23, 13*17, 13*19, 13*23, 17*17])\n",
    "\n",
    "C0 = np.array(list(sp.primerange(6, 100)))\n",
    "C1 = np.array(list(sp.primerange(100, 200)))\n",
    "C2 = np.array(list(sp.primerange(200, 300)))\n",
    "\n",
    "M0 = np.union1d(A0, C0)\n",
    "M1 = np.union1d(A1, C1)\n",
    "M2 = np.union1d(A2, C2)\n"
   ]
  },
  {
   "cell_type": "code",
   "execution_count": null,
   "metadata": {},
   "outputs": [],
   "source": []
  }
 ],
 "metadata": {
  "kernelspec": {
   "display_name": "Python 3",
   "language": "python",
   "name": "python3"
  },
  "language_info": {
   "codemirror_mode": {
    "name": "ipython",
    "version": 3
   },
   "file_extension": ".py",
   "mimetype": "text/x-python",
   "name": "python",
   "nbconvert_exporter": "python",
   "pygments_lexer": "ipython3",
   "version": "3.8.5"
  }
 },
 "nbformat": 4,
 "nbformat_minor": 2
}
