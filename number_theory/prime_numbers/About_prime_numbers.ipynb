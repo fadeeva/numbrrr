{
 "cells": [
  {
   "cell_type": "code",
   "execution_count": 1,
   "metadata": {},
   "outputs": [],
   "source": [
    "from collections import defaultdict\n",
    "\n",
    "import numpy as np\n",
    "import sympy as sp"
   ]
  },
  {
   "cell_type": "code",
   "execution_count": 2,
   "metadata": {},
   "outputs": [
    {
     "name": "stdout",
     "output_type": "stream",
     "text": [
      "5042\n",
      "5043\n",
      "5044\n",
      "5045\n",
      "5046\n",
      "5047\n"
     ]
    }
   ],
   "source": [
    "# для любого сколь угодно большого натурального числа m можно указать\n",
    "# m последовательных составных чисел\n",
    "m=6\n",
    "for i in range(2, m+2):\n",
    "    print(np.math.factorial(m+1)+i)"
   ]
  },
  {
   "cell_type": "code",
   "execution_count": 3,
   "metadata": {},
   "outputs": [],
   "source": [
    "A0 = np.array([1, 7*7, 7*11, 7*13])\n",
    "A1 = np.array([7*17, 7*19, 7*23, 11*11, 11*13, 11*17, 13*13])\n",
    "A2 = np.array([7*29, 7*31, 7*37, 7*41, 11*19, 11*23, 13*17, 13*19, 13*23, 17*17])\n",
    "\n",
    "C0 = np.array(list(sp.primerange(6, 100)))\n",
    "C1 = np.array(list(sp.primerange(100, 200)))\n",
    "C2 = np.array(list(sp.primerange(200, 300)))\n",
    "\n",
    "M0 = np.union1d(A0, C0)\n",
    "M1 = np.union1d(A1, C1)\n",
    "M2 = np.union1d(A2, C2)\n",
    "\n",
    "M = np.union1d(M0, M1)\n",
    "M = np.union1d(M, M2)"
   ]
  },
  {
   "cell_type": "code",
   "execution_count": 4,
   "metadata": {},
   "outputs": [
    {
     "data": {
      "text/plain": [
       "array([  1,   7,  11,  13,  17,  19,  23,  29,  31,  37,  41,  43,  47,\n",
       "        49,  53,  59,  61,  67,  71,  73,  77,  79,  83,  89,  91,  97,\n",
       "       101, 103, 107, 109, 113, 119, 121, 127, 131, 133, 137, 139, 143,\n",
       "       149, 151, 157, 161, 163, 167, 169, 173, 179, 181, 187, 191, 193,\n",
       "       197, 199, 203, 209, 211, 217, 221, 223, 227, 229, 233, 239, 241,\n",
       "       247, 251, 253, 257, 259, 263, 269, 271, 277, 281, 283, 287, 289,\n",
       "       293, 299])"
      ]
     },
     "execution_count": 4,
     "metadata": {},
     "output_type": "execute_result"
    }
   ],
   "source": [
    "M"
   ]
  },
  {
   "cell_type": "code",
   "execution_count": 5,
   "metadata": {},
   "outputs": [],
   "source": [
    "# Для любого натурального числа n и произвольных\n",
    "# простых чисел p0n, p1n, p2n таких, что\n",
    "#     300n < p0n < 100+300n\n",
    "# 100+300n < p1n < 200+300n\n",
    "# 200+300n < p2n < 300+300n\n",
    "# последние две цифры числа pin (i=0, 1, 2)\n",
    "# совпадают с последними двумя цифрами одного\n",
    "# из чисел из множества M\n",
    "\n",
    "N = [5, 50, 100, 1000, 2000]\n",
    "\n",
    "p0n = defaultdict(list)\n",
    "p1n = defaultdict(list)\n",
    "p2n = defaultdict(list)\n",
    "for n in N:\n",
    "    p0n[n] = np.array(list(sp.primerange(300*n, 100+300*n)))\n",
    "    p1n[n] = np.array(list(sp.primerange(100+300*n, 200+300*n)))\n",
    "    p2n[n] = np.array(list(sp.primerange(200+300*n, 300+300*n)))\n"
   ]
  },
  {
   "cell_type": "code",
   "execution_count": 15,
   "metadata": {},
   "outputs": [
    {
     "data": {
      "text/plain": [
       "defaultdict(list,\n",
       "            {5: array([1511, 1523, 1531, 1543, 1549, 1553, 1559, 1567, 1571, 1579, 1583,\n",
       "                    1597]),\n",
       "             50: array([15013, 15017, 15031, 15053, 15061, 15073, 15077, 15083, 15091]),\n",
       "             100: array([30011, 30013, 30029, 30047, 30059, 30071, 30089, 30091, 30097]),\n",
       "             1000: array([300007, 300017, 300023, 300043, 300073, 300089]),\n",
       "             2000: array([600011, 600043, 600053, 600071, 600073, 600091])})"
      ]
     },
     "execution_count": 15,
     "metadata": {},
     "output_type": "execute_result"
    }
   ],
   "source": [
    "p0n"
   ]
  },
  {
   "cell_type": "code",
   "execution_count": 32,
   "metadata": {},
   "outputs": [],
   "source": [
    "q = 879\n",
    "p = []\n",
    "M = M[M>10]%100 + 100*q\n",
    "r = q % 3\n",
    "for i in range(100*q, 100*(q+1)):\n",
    "    if i in M:\n",
    "        p.append(i)"
   ]
  },
  {
   "cell_type": "code",
   "execution_count": 33,
   "metadata": {},
   "outputs": [
    {
     "name": "stdout",
     "output_type": "stream",
     "text": [
      "[87901, 87903, 87907, 87909, 87911, 87913, 87917, 87919, 87921, 87923, 87927, 87929, 87931, 87933, 87937, 87939, 87941, 87943, 87947, 87949, 87951, 87953, 87957, 87959, 87961, 87963, 87967, 87969, 87971, 87973, 87977, 87979, 87981, 87983, 87987, 87989, 87991, 87993, 87997, 87999]\n"
     ]
    }
   ],
   "source": [
    "print(p)"
   ]
  },
  {
   "cell_type": "code",
   "execution_count": null,
   "metadata": {},
   "outputs": [],
   "source": []
  }
 ],
 "metadata": {
  "kernelspec": {
   "display_name": "Python 3",
   "language": "python",
   "name": "python3"
  },
  "language_info": {
   "codemirror_mode": {
    "name": "ipython",
    "version": 3
   },
   "file_extension": ".py",
   "mimetype": "text/x-python",
   "name": "python",
   "nbconvert_exporter": "python",
   "pygments_lexer": "ipython3",
   "version": "3.8.5"
  }
 },
 "nbformat": 4,
 "nbformat_minor": 2
}
