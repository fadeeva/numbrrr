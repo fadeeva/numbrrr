{
 "cells": [
  {
   "cell_type": "markdown",
   "metadata": {},
   "source": [
    "# Permutation"
   ]
  },
  {
   "cell_type": "code",
   "execution_count": 1,
   "metadata": {},
   "outputs": [],
   "source": [
    "import numpy as np"
   ]
  },
  {
   "cell_type": "code",
   "execution_count": 35,
   "metadata": {},
   "outputs": [],
   "source": [
    "class Permutation:\n",
    "    def __init__(self, p: list):\n",
    "        if max(p) == len(p):\n",
    "            self.permutation = np.array(p)\n",
    "        else:\n",
    "            self.permutation = np.arange(1, len(p)+1)\n",
    "        \n",
    "        self.size = self.permutation.size\n",
    "        self.idx = 0\n",
    "    \n",
    "    def __str__(self):\n",
    "        return f'{np.arange(1, len(self.permutation)+1)}, {self.permutation}'\n",
    "    \n",
    "    def __repr__(self):\n",
    "        return f'{np.arange(1, len(self.permutation)+1)}, {self.permutation}'\n",
    "    \n",
    "    def __iter__(self):\n",
    "#         self.idx = 0\n",
    "        return self\n",
    "    \n",
    "    def __next__(self):\n",
    "        if self.idx < len(self.permutation):\n",
    "            self.idx += 1\n",
    "            return self.permutation[self.idx-1]\n",
    "        else:\n",
    "            self.idx = 0\n",
    "            return self.permutation[self.idx]\n",
    "\n",
    "    def get(self, index):\n",
    "        return self.permutation[index]\n",
    "        \n",
    "    def shuffle(self):\n",
    "        np.random.shuffle(self.permutation)\n",
    "    \n",
    "    def get_inverse(self):\n",
    "        pass\n",
    "\n",
    "\n",
    "class Composition:\n",
    "    def __init__(self, permutations: list):\n",
    "        self.permutations = permutations\n",
    "        self.SIZE = permutations[0].size\n",
    "    \n",
    "    def make_composition(self, a, b):\n",
    "        compos = np.zeros(self.SIZE, dtype=int)\n",
    "        for n, i in enumerate(b):\n",
    "            compos[n] = a[i-1]\n",
    "\n",
    "        return compos\n",
    "    \n",
    "    def print_composition(self):\n",
    "        pass\n",
    "\n"
   ]
  },
  {
   "cell_type": "code",
   "execution_count": 36,
   "metadata": {},
   "outputs": [
    {
     "data": {
      "text/plain": [
       "array([4, 2, 1, 3])"
      ]
     },
     "execution_count": 36,
     "metadata": {},
     "output_type": "execute_result"
    }
   ],
   "source": [
    "p1 = Permutation([3, 2, 1, 4])\n",
    "p2 = Permutation([4, 2, 3, 1])\n",
    "\n",
    "comp = Composition([p1, p2])\n",
    "\n",
    "comp.make_composition(np.array([3, 2, 1, 4]), np.array([4, 2, 3, 1]))"
   ]
  },
  {
   "cell_type": "code",
   "execution_count": 30,
   "metadata": {},
   "outputs": [
    {
     "data": {
      "text/plain": [
       "[1 2 3 4], [3 2 1 4]"
      ]
     },
     "execution_count": 30,
     "metadata": {},
     "output_type": "execute_result"
    }
   ],
   "source": [
    "p1"
   ]
  },
  {
   "cell_type": "code",
   "execution_count": 38,
   "metadata": {},
   "outputs": [
    {
     "name": "stdout",
     "output_type": "stream",
     "text": [
      "3\n",
      "2\n",
      "1\n",
      "4\n"
     ]
    }
   ],
   "source": [
    "# iterator = iter(p1)\n",
    "l = 0\n",
    "for i in p1:\n",
    "    if l < 4:\n",
    "        l+=1\n",
    "        print(i)\n",
    "    else:\n",
    "        break\n",
    "    "
   ]
  },
  {
   "cell_type": "code",
   "execution_count": 79,
   "metadata": {},
   "outputs": [
    {
     "data": {
      "text/plain": [
       "[1 2 3 4], [3 2 1 4]"
      ]
     },
     "execution_count": 79,
     "metadata": {},
     "output_type": "execute_result"
    }
   ],
   "source": [
    "p1"
   ]
  },
  {
   "cell_type": "code",
   "execution_count": 70,
   "metadata": {},
   "outputs": [
    {
     "data": {
      "text/plain": [
       "3"
      ]
     },
     "execution_count": 70,
     "metadata": {},
     "output_type": "execute_result"
    }
   ],
   "source": [
    "p1.get(0)"
   ]
  },
  {
   "cell_type": "code",
   "execution_count": 24,
   "metadata": {},
   "outputs": [
    {
     "data": {
      "text/plain": [
       "1"
      ]
     },
     "execution_count": 24,
     "metadata": {},
     "output_type": "execute_result"
    }
   ],
   "source": [
    "a = np.array([3, 2, 1, 4])\n",
    "b = np.array([4, 2, 3, 1])\n",
    "\n",
    "np.where(a==2)[0][0]"
   ]
  },
  {
   "cell_type": "code",
   "execution_count": 37,
   "metadata": {},
   "outputs": [
    {
     "data": {
      "text/plain": [
       "array([4, 2, 1, 3])"
      ]
     },
     "execution_count": 37,
     "metadata": {},
     "output_type": "execute_result"
    }
   ],
   "source": [
    "compos = np.zeros(a.size, dtype=int)\n",
    "for n, i in enumerate(b):\n",
    "    compos[n] = a[i-1]\n",
    "\n",
    "compos"
   ]
  },
  {
   "cell_type": "code",
   "execution_count": null,
   "metadata": {},
   "outputs": [],
   "source": []
  }
 ],
 "metadata": {
  "kernelspec": {
   "display_name": "Python 3",
   "language": "python",
   "name": "python3"
  },
  "language_info": {
   "codemirror_mode": {
    "name": "ipython",
    "version": 3
   },
   "file_extension": ".py",
   "mimetype": "text/x-python",
   "name": "python",
   "nbconvert_exporter": "python",
   "pygments_lexer": "ipython3",
   "version": "3.8.5"
  }
 },
 "nbformat": 4,
 "nbformat_minor": 2
}
