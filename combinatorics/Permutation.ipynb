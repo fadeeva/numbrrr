{
 "cells": [
  {
   "cell_type": "markdown",
   "metadata": {},
   "source": [
    "# Permutation"
   ]
  },
  {
   "cell_type": "code",
   "execution_count": 1,
   "metadata": {},
   "outputs": [],
   "source": [
    "# %%file permutation.py\n",
    "\n",
    "import numpy as np\n",
    "\n",
    "class Permutation:\n",
    "    def __init__(self, p: list):\n",
    "        if max(p) == len(p):\n",
    "            self.permutation = np.array(p)\n",
    "        else:\n",
    "            self.permutation = np.arange(1, len(p)+1)\n",
    "        \n",
    "        self.size = self.permutation.size\n",
    "        self.idx = 0\n",
    "    \n",
    "    def __str__(self):\n",
    "        return f'{self.permutation}'\n",
    "#         return f'''{np.arange(1, len(self.permutation)+1)}\n",
    "# {self.permutation}'''\n",
    "    \n",
    "    def __repr__(self):\n",
    "        return f'{self.permutation}'\n",
    "    \n",
    "    def __iter__(self):\n",
    "        self.idx = 0\n",
    "        return self\n",
    "    \n",
    "    def __next__(self):\n",
    "        try:\n",
    "            item = self.permutation[self.idx]\n",
    "        except IndexError:\n",
    "            raise StopIteration()\n",
    "        self.idx += 1\n",
    "        return item\n",
    "    \n",
    "    def __eq__(self, other):\n",
    "        if isinstance(other, self.__class__):\n",
    "            return np.array_equal(self.permutation, other.permutation)\n",
    "        return NotImplemented\n",
    "    \n",
    "    def __mul__(self, other):\n",
    "        composition = Permutation(np.zeros(self.size, dtype=int))\n",
    "        \n",
    "        if isinstance(other, Permutation):\n",
    "            if self.size == other.size:\n",
    "                for idx, value in enumerate(other):\n",
    "                    composition.setter(idx, self.getter(value-1))\n",
    "\n",
    "        return composition\n",
    "    \n",
    "    def getter(self, idx):\n",
    "        return self.permutation[idx]\n",
    "    \n",
    "    def setter(self, idx, value):\n",
    "        self.permutation[idx] = value\n",
    "    \n",
    "    def get_inverse(self):\n",
    "        pass\n",
    "\n"
   ]
  },
  {
   "cell_type": "code",
   "execution_count": 2,
   "metadata": {},
   "outputs": [],
   "source": [
    "p1 = Permutation([3, 2, 1, 4])\n",
    "p2 = Permutation([4, 2, 3, 1])\n",
    "p3 = Permutation([3, 2, 1, 4])\n",
    "p4 = Permutation([4, 2, 3, 1])\n",
    "p5 = Permutation([4, 2, 3, 1])\n"
   ]
  },
  {
   "cell_type": "code",
   "execution_count": 3,
   "metadata": {},
   "outputs": [
    {
     "data": {
      "text/plain": [
       "[1 2 4 3]"
      ]
     },
     "execution_count": 3,
     "metadata": {},
     "output_type": "execute_result"
    }
   ],
   "source": [
    "p1*p2*p3"
   ]
  },
  {
   "cell_type": "code",
   "execution_count": 60,
   "metadata": {},
   "outputs": [
    {
     "name": "stdout",
     "output_type": "stream",
     "text": [
      "[[1, 3, 7], [2, 4, 8, 5, 6]]\n"
     ]
    }
   ],
   "source": [
    "c = [3, 4, 7, 8, 6, 2, 1, 5]\n",
    "\n",
    "cycles = []\n",
    "cycle = []\n",
    "\n",
    "idx = 1\n",
    "cycles_len = 0\n",
    "while True:\n",
    "    if cycles_len == len(c):\n",
    "        break\n",
    "    \n",
    "    if idx not in cycle:\n",
    "        cycle.append(idx)\n",
    "    \n",
    "    if c[idx-1] in cycle:\n",
    "        cycles.append(cycle.copy())\n",
    "        cycles_len += len(cycle)\n",
    "        \n",
    "        for new_idx in range(len(c)):\n",
    "            if new_idx+1 not in cycle:\n",
    "                idx = new_idx + 1\n",
    "                break\n",
    "        \n",
    "        cycle.clear()\n",
    "        continue\n",
    "        \n",
    "    cycle.append(c[idx-1])\n",
    "    idx = cycle[-1]\n",
    "    \n",
    "\n",
    "print(cycles)\n",
    "    "
   ]
  },
  {
   "cell_type": "code",
   "execution_count": 20,
   "metadata": {},
   "outputs": [
    {
     "name": "stdout",
     "output_type": "stream",
     "text": [
      "Overwriting test_list.py\n"
     ]
    }
   ],
   "source": [
    "%%file test_list.py\n",
    "'''\n",
    "    TESTS\n",
    "'''\n",
    "\n",
    "import pytest\n",
    "import permutation as pm\n",
    "\n",
    "test_data = [ # p1, p2, result\n",
    "    [pm.Permutation([1, 2, 3]), pm.Permutation([2, 3, 1]), pm.Permutation([2, 3, 1])],\n",
    "    [pm.Permutation([3, 1, 2]), pm.Permutation([1, 3, 2]), pm.Permutation([3, 2, 1])],\n",
    "    [pm.Permutation([2, 3, 1]), pm.Permutation([3, 2, 1]), pm.Permutation([1, 3, 2])],\n",
    "    \n",
    "    [pm.Permutation([3, 2, 1, 4]), pm.Permutation([4, 2, 3, 1]), pm.Permutation([4, 2, 1, 3])],\n",
    "    [pm.Permutation([1, 2, 3, 4]), pm.Permutation([1, 2, 3, 4]), pm.Permutation([1, 2, 3, 4])],\n",
    "    [pm.Permutation([1, 2, 3, 4]), pm.Permutation([3, 2, 1, 4]), pm.Permutation([3, 2, 1, 4])],\n",
    "    [pm.Permutation([4, 2, 3, 1]), pm.Permutation([1, 2, 3, 4]), pm.Permutation([4, 2, 3, 1])],\n",
    "    \n",
    "    [pm.Permutation([1, 2, 3, 4, 5]), pm.Permutation([1, 2, 3, 4, 5]), pm.Permutation([1, 2, 3, 4, 5])],\n",
    "    [pm.Permutation([1, 2, 3, 4, 5]), pm.Permutation([3, 2, 1, 4, 5]), pm.Permutation([3, 2, 1, 4, 5])],\n",
    "    [pm.Permutation([3, 2, 1, 5, 4]), pm.Permutation([4, 2, 3, 1, 5]), pm.Permutation([5, 2, 1, 3, 4])],\n",
    "    [pm.Permutation([4, 2, 3, 1, 5]), pm.Permutation([3, 2, 1, 5, 4]), pm.Permutation([3, 2, 4, 5, 1])],\n",
    "]\n",
    "\n",
    "class TestComposition():\n",
    "    def test_composition(self):\n",
    "        for t in test_data:\n",
    "            composition = t[0]*t[1]\n",
    "            assert composition == t[2]"
   ]
  },
  {
   "cell_type": "code",
   "execution_count": 21,
   "metadata": {},
   "outputs": [
    {
     "name": "stdout",
     "output_type": "stream",
     "text": [
      "============================= test session starts =============================\n",
      "platform win32 -- Python 3.8.5, pytest-7.3.1, pluggy-0.13.1 -- F:\\Python\\python.exe\n",
      "cachedir: .pytest_cache\n",
      "rootdir: I:\\work\\math\\numbrrr\\combinatorics\n",
      "plugins: anyio-3.6.2, flaky-3.7.0, rerunfailures-11.1.2\n",
      "collecting ... collected 1 item\n",
      "\n",
      "test_list.py::TestComposition::test_composition PASSED                   [100%]\n",
      "\n",
      "============================== 1 passed in 0.60s ==============================\n"
     ]
    }
   ],
   "source": [
    "!pytest -v test_list.py"
   ]
  },
  {
   "cell_type": "code",
   "execution_count": null,
   "metadata": {},
   "outputs": [],
   "source": []
  }
 ],
 "metadata": {
  "kernelspec": {
   "display_name": "Python 3",
   "language": "python",
   "name": "python3"
  },
  "language_info": {
   "codemirror_mode": {
    "name": "ipython",
    "version": 3
   },
   "file_extension": ".py",
   "mimetype": "text/x-python",
   "name": "python",
   "nbconvert_exporter": "python",
   "pygments_lexer": "ipython3",
   "version": "3.8.5"
  }
 },
 "nbformat": 4,
 "nbformat_minor": 2
}
