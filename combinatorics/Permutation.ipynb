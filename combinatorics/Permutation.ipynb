{
 "cells": [
  {
   "cell_type": "markdown",
   "metadata": {},
   "source": [
    "# Permutation"
   ]
  },
  {
   "cell_type": "code",
   "execution_count": 8,
   "metadata": {},
   "outputs": [],
   "source": [
    "# %%file permutation.py\n",
    "\n",
    "import numpy as np\n",
    "\n",
    "class Permutation:\n",
    "    def __init__(self, p: list):\n",
    "        if max(p) == len(p):\n",
    "            self.permutation = np.array(p)\n",
    "        else:\n",
    "            self.permutation = np.arange(1, len(p)+1)\n",
    "        \n",
    "        self.size = self.permutation.size\n",
    "        self.idx = 0\n",
    "    \n",
    "    def __str__(self):\n",
    "        return f'''{np.arange(1, len(self.permutation)+1)}\n",
    "{self.permutation}'''\n",
    "    \n",
    "    def __repr__(self):\n",
    "        return f'''{np.arange(1, len(self.permutation)+1)}\n",
    "{self.permutation}'''\n",
    "    \n",
    "    def __iter__(self):\n",
    "        self.idx = 0\n",
    "        return self\n",
    "    \n",
    "    def __next__(self):\n",
    "        try:\n",
    "            item = self.permutation[self.idx]\n",
    "        except IndexError:\n",
    "            raise StopIteration()\n",
    "        self.idx += 1\n",
    "        return item\n",
    "    \n",
    "    def __eq__(self, other):\n",
    "        if isinstance(other, self.__class__):\n",
    "            return np.array_equal(self.permutation, other.permutation)\n",
    "        return NotImplemented\n",
    "    \n",
    "    def getter(self, idx):\n",
    "        return self.permutation[idx]\n",
    "    \n",
    "    def setter(self, idx, value):\n",
    "        self.permutation[idx] = value\n",
    "    \n",
    "    def shuffle(self):\n",
    "        np.random.shuffle(self.permutation)\n",
    "    \n",
    "    def get_inverse(self):\n",
    "        pass\n",
    "\n",
    "\n",
    "class Composition:\n",
    "    def __init__(self, permutations: list):\n",
    "        self.permutations = permutations\n",
    "        self.SIZE = permutations[0].size\n",
    "    \n",
    "    def make_composition(self, a, b):\n",
    "        compos = Permutation(np.zeros(self.SIZE, dtype=int))\n",
    "        for idx, value in enumerate(b):\n",
    "            compos.setter(idx, a.getter(value-1))\n",
    "\n",
    "        return compos\n",
    "    \n",
    "    def print_composition(self):\n",
    "        pass\n",
    "\n"
   ]
  },
  {
   "cell_type": "code",
   "execution_count": 24,
   "metadata": {},
   "outputs": [
    {
     "data": {
      "text/plain": [
       "[1 2 3 4]\n",
       "[4 2 1 3]"
      ]
     },
     "execution_count": 24,
     "metadata": {},
     "output_type": "execute_result"
    }
   ],
   "source": [
    "p1 = Permutation([3, 2, 1, 4])\n",
    "p2 = Permutation([4, 2, 3, 1])\n",
    "\n",
    "comp = Composition([p1, p2])\n",
    "\n",
    "comp.make_composition(p1, p2)"
   ]
  },
  {
   "cell_type": "code",
   "execution_count": 21,
   "metadata": {},
   "outputs": [
    {
     "name": "stdout",
     "output_type": "stream",
     "text": [
      "Overwriting test_list.py\n"
     ]
    }
   ],
   "source": [
    "'''\n",
    "    TESTS\n",
    "'''\n",
    "\n",
    "%%file test_list.py\n",
    "\n",
    "import pytest\n",
    "import permutation as pm\n",
    "\n",
    "test_data = [ # p1, p2, result\n",
    "    [pm.Permutation([1, 2, 3]), pm.Permutation([2, 3, 1]), pm.Permutation([2, 3, 1])],\n",
    "    [pm.Permutation([3, 1, 2]), pm.Permutation([1, 3, 2]), pm.Permutation([3, 2, 1])],\n",
    "    [pm.Permutation([2, 3, 1]), pm.Permutation([3, 2, 1]), pm.Permutation([1, 3, 2])],\n",
    "    \n",
    "    [pm.Permutation([3, 2, 1, 4]), pm.Permutation([4, 2, 3, 1]), pm.Permutation([4, 2, 1, 3])],\n",
    "    [pm.Permutation([1, 2, 3, 4]), pm.Permutation([1, 2, 3, 4]), pm.Permutation([1, 2, 3, 4])],\n",
    "    [pm.Permutation([1, 2, 3, 4]), pm.Permutation([3, 2, 1, 4]), pm.Permutation([3, 2, 1, 4])],\n",
    "    [pm.Permutation([4, 2, 3, 1]), pm.Permutation([1, 2, 3, 4]), pm.Permutation([4, 2, 3, 1])],\n",
    "    \n",
    "    [pm.Permutation([1, 2, 3, 4, 5]), pm.Permutation([1, 2, 3, 4, 5]), pm.Permutation([1, 2, 3, 4, 5])],\n",
    "    [pm.Permutation([1, 2, 3, 4, 5]), pm.Permutation([3, 2, 1, 4, 5]), pm.Permutation([3, 2, 1, 4, 5])],\n",
    "    [pm.Permutation([3, 2, 1, 5, 4]), pm.Permutation([4, 2, 3, 1, 5]), pm.Permutation([5, 2, 1, 3, 4])],\n",
    "    [pm.Permutation([4, 2, 3, 1, 5]), pm.Permutation([3, 2, 1, 5, 4]), pm.Permutation([3, 2, 4, 5, 1])],\n",
    "]\n",
    "\n",
    "class TestComposition():\n",
    "    def test_composition(self):\n",
    "        for t in test_data:\n",
    "            comp = pm.Composition([t[0], t[1]])\n",
    "            assert comp.make_composition(t[0], t[1]) == t[2]"
   ]
  },
  {
   "cell_type": "code",
   "execution_count": 22,
   "metadata": {},
   "outputs": [
    {
     "name": "stdout",
     "output_type": "stream",
     "text": [
      "============================= test session starts =============================\n",
      "platform win32 -- Python 3.8.5, pytest-7.3.1, pluggy-0.13.1 -- F:\\Python\\python.exe\n",
      "cachedir: .pytest_cache\n",
      "rootdir: I:\\work\\math\\numbrrr\\combinatorics\n",
      "plugins: anyio-3.6.2, flaky-3.7.0, rerunfailures-11.1.2\n",
      "collecting ... collected 1 item\n",
      "\n",
      "test_list.py::TestComposition::test_composition PASSED                   [100%]\n",
      "\n",
      "============================== 1 passed in 0.52s ==============================\n"
     ]
    }
   ],
   "source": [
    "!pytest -v test_list.py"
   ]
  },
  {
   "cell_type": "code",
   "execution_count": null,
   "metadata": {},
   "outputs": [],
   "source": []
  }
 ],
 "metadata": {
  "kernelspec": {
   "display_name": "Python 3",
   "language": "python",
   "name": "python3"
  },
  "language_info": {
   "codemirror_mode": {
    "name": "ipython",
    "version": 3
   },
   "file_extension": ".py",
   "mimetype": "text/x-python",
   "name": "python",
   "nbconvert_exporter": "python",
   "pygments_lexer": "ipython3",
   "version": "3.8.5"
  }
 },
 "nbformat": 4,
 "nbformat_minor": 2
}
