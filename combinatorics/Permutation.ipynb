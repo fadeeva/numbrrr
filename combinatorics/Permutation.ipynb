{
 "cells": [
  {
   "cell_type": "markdown",
   "metadata": {},
   "source": [
    "# Permutation"
   ]
  },
  {
   "cell_type": "code",
   "execution_count": 2,
   "metadata": {},
   "outputs": [],
   "source": [
    "import numpy as np"
   ]
  },
  {
   "cell_type": "code",
   "execution_count": 46,
   "metadata": {},
   "outputs": [],
   "source": [
    "class Permutation:\n",
    "    def __init__(self, p: list):\n",
    "        if max(p) == len(p):\n",
    "            self.permutation = np.array(p)\n",
    "        else:\n",
    "            self.permutation = np.arange(1, len(p)+1)\n",
    "    \n",
    "    def shuffle(self):\n",
    "        np.random.shuffle(self.permutation)\n",
    "    \n",
    "    def show(self):\n",
    "        print(np.arange(1, len(self.permutation)+1), self.permutation, sep='\\n')\n",
    "    \n",
    "    def get_inverse(self):\n",
    "        pass\n",
    "\n",
    "\n",
    "class Composition:\n",
    "    def __init__(self):\n",
    "        pass\n",
    "\n"
   ]
  },
  {
   "cell_type": "code",
   "execution_count": 48,
   "metadata": {},
   "outputs": [
    {
     "name": "stdout",
     "output_type": "stream",
     "text": [
      "[1 2 3 4]\n",
      "[3 2 1 4]\n"
     ]
    }
   ],
   "source": [
    "p1 = Permutation([3, 2, 1, 4])\n",
    "p1.show()"
   ]
  },
  {
   "cell_type": "code",
   "execution_count": 42,
   "metadata": {},
   "outputs": [
    {
     "name": "stdout",
     "output_type": "stream",
     "text": [
      "[1 2 3 4]\n",
      "[2 1 4 3]\n"
     ]
    }
   ],
   "source": [
    "p1.shuffle()\n",
    "p1.show()"
   ]
  },
  {
   "cell_type": "code",
   "execution_count": null,
   "metadata": {},
   "outputs": [],
   "source": []
  }
 ],
 "metadata": {
  "kernelspec": {
   "display_name": "Python 3",
   "language": "python",
   "name": "python3"
  },
  "language_info": {
   "codemirror_mode": {
    "name": "ipython",
    "version": 3
   },
   "file_extension": ".py",
   "mimetype": "text/x-python",
   "name": "python",
   "nbconvert_exporter": "python",
   "pygments_lexer": "ipython3",
   "version": "3.8.5"
  }
 },
 "nbformat": 4,
 "nbformat_minor": 2
}
