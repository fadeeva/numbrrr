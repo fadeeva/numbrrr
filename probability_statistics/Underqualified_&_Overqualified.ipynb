{
 "cells": [
  {
   "cell_type": "markdown",
   "metadata": {},
   "source": [
    "# Underqualified & Overqualified"
   ]
  },
  {
   "cell_type": "code",
   "execution_count": 1,
   "metadata": {},
   "outputs": [],
   "source": [
    "import numpy as np\n",
    "\n",
    "import matplotlib.pyplot as plt"
   ]
  },
  {
   "cell_type": "code",
   "execution_count": 17,
   "metadata": {},
   "outputs": [],
   "source": [
    "oq = np.random.choice(np.arange(1500, 2500), 10000)\n",
    "uq = np.random.choice(np.arange(700, 1500), 10000)"
   ]
  },
  {
   "cell_type": "code",
   "execution_count": 32,
   "metadata": {},
   "outputs": [],
   "source": [
    "games = {\n",
    "    'oq>uq': [900, 100],\n",
    "    'oq=uq': [500, 500],\n",
    "    'oq<uq': [100, 900]\n",
    "}"
   ]
  },
  {
   "cell_type": "code",
   "execution_count": 37,
   "metadata": {},
   "outputs": [],
   "source": [
    "def prob(min_r, max_r):\n",
    "    prob_min = np.round((min_r / max_r)*0.5, 2)\n",
    "    prob_max = 1 - prob_min\n",
    "    return [prob_min, prob_max]"
   ]
  },
  {
   "cell_type": "code",
   "execution_count": 38,
   "metadata": {},
   "outputs": [],
   "source": [
    "oq_players = np.random.choice(oq, games['oq>uq'][0])\n",
    "uq_players = np.random.choice(uq, games['oq>uq'][1])\n",
    "full_list_of_players = np.concatenate((oq_players, uq_players))\n",
    "\n",
    "result = []\n",
    "for player_1 in full_list_of_players:\n",
    "    for player_2 in full_list_of_players:\n",
    "        if player_1 != player_2:\n",
    "            r = np.random.choice(\n",
    "                (sorted([player_1, player_2])),\n",
    "                p=prob(*sorted([player_1, player_2])))\n",
    "            result.append(r)"
   ]
  },
  {
   "cell_type": "code",
   "execution_count": 39,
   "metadata": {},
   "outputs": [
    {
     "data": {
      "text/plain": [
       "998024"
      ]
     },
     "execution_count": 39,
     "metadata": {},
     "output_type": "execute_result"
    }
   ],
   "source": [
    "len(result)"
   ]
  },
  {
   "cell_type": "code",
   "execution_count": null,
   "metadata": {},
   "outputs": [],
   "source": []
  }
 ],
 "metadata": {
  "kernelspec": {
   "display_name": "Python 3",
   "language": "python",
   "name": "python3"
  },
  "language_info": {
   "codemirror_mode": {
    "name": "ipython",
    "version": 3
   },
   "file_extension": ".py",
   "mimetype": "text/x-python",
   "name": "python",
   "nbconvert_exporter": "python",
   "pygments_lexer": "ipython3",
   "version": "3.8.5"
  }
 },
 "nbformat": 4,
 "nbformat_minor": 2
}
