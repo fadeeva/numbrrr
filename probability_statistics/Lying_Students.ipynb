{
 "cells": [
  {
   "cell_type": "code",
   "execution_count": 1,
   "metadata": {},
   "outputs": [],
   "source": [
    "import numpy as np"
   ]
  },
  {
   "cell_type": "code",
   "execution_count": null,
   "metadata": {},
   "outputs": [],
   "source": [
    "# In the interview process for each student, the student flips a coin,\n",
    "# hidden from the interviewer. The student agrees to answer honestly\n",
    "# if the coin comes up heads. Otherwise, if the coin comes up tails,\n",
    "# the student (secretly) flips the coin again, and answers\n",
    "# \"Yes, I did cheat\" if the coin flip lands heads, and \"No, I did not cheat\",\n",
    "# if the coin flip lands tails. This way, the interviewer does not know\n",
    "# if a \"Yes\" was the result of a guilty plea, or a Heads on a second coin toss.\n",
    "# Thus privacy is preserved and the researchers receive honest answers."
   ]
  },
  {
   "cell_type": "code",
   "execution_count": 8,
   "metadata": {},
   "outputs": [],
   "source": [
    "honesty = 0\n",
    "i_did_cheat, i_did_not_cheat = 0, 0\n",
    "for head in np.random.binomial(1, .5, 1000):\n",
    "    if head:\n",
    "        honesty += 1\n",
    "    else:\n",
    "        if np.random.binomial(1, .5):\n",
    "            i_did_cheat += 1\n",
    "        else:\n",
    "            i_did_not_cheat += 1\n",
    "        "
   ]
  },
  {
   "cell_type": "code",
   "execution_count": 9,
   "metadata": {},
   "outputs": [
    {
     "data": {
      "text/plain": [
       "(517, 256, 227)"
      ]
     },
     "execution_count": 9,
     "metadata": {},
     "output_type": "execute_result"
    }
   ],
   "source": [
    "honesty, i_did_cheat, i_did_not_cheat"
   ]
  },
  {
   "cell_type": "code",
   "execution_count": null,
   "metadata": {},
   "outputs": [],
   "source": []
  }
 ],
 "metadata": {
  "kernelspec": {
   "display_name": "Python 3",
   "language": "python",
   "name": "python3"
  },
  "language_info": {
   "codemirror_mode": {
    "name": "ipython",
    "version": 3
   },
   "file_extension": ".py",
   "mimetype": "text/x-python",
   "name": "python",
   "nbconvert_exporter": "python",
   "pygments_lexer": "ipython3",
   "version": "3.8.5"
  }
 },
 "nbformat": 4,
 "nbformat_minor": 2
}
