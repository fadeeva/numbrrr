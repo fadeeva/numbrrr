{
 "cells": [
  {
   "cell_type": "markdown",
   "metadata": {},
   "source": [
    "# p-Hacking and Multiple Comparisons Bias"
   ]
  },
  {
   "cell_type": "code",
   "execution_count": 21,
   "metadata": {},
   "outputs": [],
   "source": [
    "import numpy as np\n",
    "import pandas as pd\n",
    "\n",
    "import scipy.stats as stats\n",
    "import matplotlib.pyplot as plt\n",
    "\n",
    "jtplot.style(figsize=(15, 9))"
   ]
  },
  {
   "cell_type": "markdown",
   "metadata": {},
   "source": [
    "## One Experiment"
   ]
  },
  {
   "cell_type": "code",
   "execution_count": 2,
   "metadata": {},
   "outputs": [],
   "source": [
    "df = pd.DataFrame()\n",
    "\n",
    "N = 20\n",
    "T = 100\n",
    "\n",
    "for i in range(N):\n",
    "    X = np.random.normal(0, 1, T)\n",
    "    X = pd.Series(X)\n",
    "    name = 'X%s' % i\n",
    "    df[name] = X"
   ]
  },
  {
   "cell_type": "code",
   "execution_count": 3,
   "metadata": {},
   "outputs": [
    {
     "data": {
      "text/html": [
       "<div>\n",
       "<style scoped>\n",
       "    .dataframe tbody tr th:only-of-type {\n",
       "        vertical-align: middle;\n",
       "    }\n",
       "\n",
       "    .dataframe tbody tr th {\n",
       "        vertical-align: top;\n",
       "    }\n",
       "\n",
       "    .dataframe thead th {\n",
       "        text-align: right;\n",
       "    }\n",
       "</style>\n",
       "<table border=\"1\" class=\"dataframe\">\n",
       "  <thead>\n",
       "    <tr style=\"text-align: right;\">\n",
       "      <th></th>\n",
       "      <th>X0</th>\n",
       "      <th>X1</th>\n",
       "      <th>X2</th>\n",
       "      <th>X3</th>\n",
       "      <th>X4</th>\n",
       "      <th>X5</th>\n",
       "      <th>X6</th>\n",
       "      <th>X7</th>\n",
       "      <th>X8</th>\n",
       "      <th>X9</th>\n",
       "      <th>X10</th>\n",
       "      <th>X11</th>\n",
       "      <th>X12</th>\n",
       "      <th>X13</th>\n",
       "      <th>X14</th>\n",
       "      <th>X15</th>\n",
       "      <th>X16</th>\n",
       "      <th>X17</th>\n",
       "      <th>X18</th>\n",
       "      <th>X19</th>\n",
       "    </tr>\n",
       "  </thead>\n",
       "  <tbody>\n",
       "    <tr>\n",
       "      <th>0</th>\n",
       "      <td>-1.624093</td>\n",
       "      <td>-0.173540</td>\n",
       "      <td>-0.305305</td>\n",
       "      <td>-1.925479</td>\n",
       "      <td>0.143485</td>\n",
       "      <td>2.735556</td>\n",
       "      <td>-0.516784</td>\n",
       "      <td>0.741076</td>\n",
       "      <td>-1.559883</td>\n",
       "      <td>0.282156</td>\n",
       "      <td>1.226179</td>\n",
       "      <td>1.435014</td>\n",
       "      <td>-1.848752</td>\n",
       "      <td>-0.578208</td>\n",
       "      <td>0.963319</td>\n",
       "      <td>0.993480</td>\n",
       "      <td>1.249336</td>\n",
       "      <td>-0.732804</td>\n",
       "      <td>-0.193733</td>\n",
       "      <td>-0.684990</td>\n",
       "    </tr>\n",
       "    <tr>\n",
       "      <th>1</th>\n",
       "      <td>0.540092</td>\n",
       "      <td>1.323208</td>\n",
       "      <td>-0.580312</td>\n",
       "      <td>-0.716968</td>\n",
       "      <td>1.003919</td>\n",
       "      <td>-0.016201</td>\n",
       "      <td>1.466824</td>\n",
       "      <td>-0.885235</td>\n",
       "      <td>-2.372765</td>\n",
       "      <td>0.345224</td>\n",
       "      <td>0.443665</td>\n",
       "      <td>-1.016739</td>\n",
       "      <td>-0.681614</td>\n",
       "      <td>-0.315438</td>\n",
       "      <td>1.665254</td>\n",
       "      <td>1.348430</td>\n",
       "      <td>0.665705</td>\n",
       "      <td>-2.148925</td>\n",
       "      <td>0.609963</td>\n",
       "      <td>-0.455012</td>\n",
       "    </tr>\n",
       "    <tr>\n",
       "      <th>2</th>\n",
       "      <td>0.904078</td>\n",
       "      <td>0.989198</td>\n",
       "      <td>0.071811</td>\n",
       "      <td>-0.394764</td>\n",
       "      <td>0.995742</td>\n",
       "      <td>0.527720</td>\n",
       "      <td>-1.013019</td>\n",
       "      <td>-0.148739</td>\n",
       "      <td>0.359863</td>\n",
       "      <td>-1.300544</td>\n",
       "      <td>0.498174</td>\n",
       "      <td>-0.123302</td>\n",
       "      <td>-1.247467</td>\n",
       "      <td>-1.552051</td>\n",
       "      <td>0.701180</td>\n",
       "      <td>1.189831</td>\n",
       "      <td>1.172374</td>\n",
       "      <td>0.302297</td>\n",
       "      <td>1.251860</td>\n",
       "      <td>0.566709</td>\n",
       "    </tr>\n",
       "    <tr>\n",
       "      <th>3</th>\n",
       "      <td>1.470607</td>\n",
       "      <td>0.798765</td>\n",
       "      <td>0.357212</td>\n",
       "      <td>-0.286237</td>\n",
       "      <td>-0.389440</td>\n",
       "      <td>-0.412889</td>\n",
       "      <td>-0.395488</td>\n",
       "      <td>0.150712</td>\n",
       "      <td>-1.228355</td>\n",
       "      <td>0.926094</td>\n",
       "      <td>1.461555</td>\n",
       "      <td>1.196264</td>\n",
       "      <td>-1.305834</td>\n",
       "      <td>0.070709</td>\n",
       "      <td>-1.728207</td>\n",
       "      <td>-0.339210</td>\n",
       "      <td>1.874273</td>\n",
       "      <td>1.920190</td>\n",
       "      <td>-2.063870</td>\n",
       "      <td>0.873727</td>\n",
       "    </tr>\n",
       "    <tr>\n",
       "      <th>4</th>\n",
       "      <td>-0.008099</td>\n",
       "      <td>0.002090</td>\n",
       "      <td>1.545660</td>\n",
       "      <td>0.599790</td>\n",
       "      <td>0.163612</td>\n",
       "      <td>-0.260818</td>\n",
       "      <td>0.156217</td>\n",
       "      <td>0.333777</td>\n",
       "      <td>-0.061620</td>\n",
       "      <td>-1.810384</td>\n",
       "      <td>0.606600</td>\n",
       "      <td>1.203776</td>\n",
       "      <td>0.035893</td>\n",
       "      <td>0.347496</td>\n",
       "      <td>-1.334287</td>\n",
       "      <td>-0.788918</td>\n",
       "      <td>0.257956</td>\n",
       "      <td>-1.005183</td>\n",
       "      <td>-1.115861</td>\n",
       "      <td>0.831415</td>\n",
       "    </tr>\n",
       "  </tbody>\n",
       "</table>\n",
       "</div>"
      ],
      "text/plain": [
       "         X0        X1        X2        X3        X4        X5        X6  \\\n",
       "0 -1.624093 -0.173540 -0.305305 -1.925479  0.143485  2.735556 -0.516784   \n",
       "1  0.540092  1.323208 -0.580312 -0.716968  1.003919 -0.016201  1.466824   \n",
       "2  0.904078  0.989198  0.071811 -0.394764  0.995742  0.527720 -1.013019   \n",
       "3  1.470607  0.798765  0.357212 -0.286237 -0.389440 -0.412889 -0.395488   \n",
       "4 -0.008099  0.002090  1.545660  0.599790  0.163612 -0.260818  0.156217   \n",
       "\n",
       "         X7        X8        X9       X10       X11       X12       X13  \\\n",
       "0  0.741076 -1.559883  0.282156  1.226179  1.435014 -1.848752 -0.578208   \n",
       "1 -0.885235 -2.372765  0.345224  0.443665 -1.016739 -0.681614 -0.315438   \n",
       "2 -0.148739  0.359863 -1.300544  0.498174 -0.123302 -1.247467 -1.552051   \n",
       "3  0.150712 -1.228355  0.926094  1.461555  1.196264 -1.305834  0.070709   \n",
       "4  0.333777 -0.061620 -1.810384  0.606600  1.203776  0.035893  0.347496   \n",
       "\n",
       "        X14       X15       X16       X17       X18       X19  \n",
       "0  0.963319  0.993480  1.249336 -0.732804 -0.193733 -0.684990  \n",
       "1  1.665254  1.348430  0.665705 -2.148925  0.609963 -0.455012  \n",
       "2  0.701180  1.189831  1.172374  0.302297  1.251860  0.566709  \n",
       "3 -1.728207 -0.339210  1.874273  1.920190 -2.063870  0.873727  \n",
       "4 -1.334287 -0.788918  0.257956 -1.005183 -1.115861  0.831415  "
      ]
     },
     "execution_count": 3,
     "metadata": {},
     "output_type": "execute_result"
    }
   ],
   "source": [
    "df.head()"
   ]
  },
  {
   "cell_type": "code",
   "execution_count": 9,
   "metadata": {},
   "outputs": [],
   "source": [
    "cutoff = 0.05\n",
    "\n",
    "significant_pairs = []\n",
    "\n",
    "for i in range(N):\n",
    "    for j in range(i+1, N):\n",
    "        Xi = df.iloc[:, i]\n",
    "        Xj = df.iloc[:, j]\n",
    "        \n",
    "        results = stats.spearmanr(Xi, Xj)\n",
    "        \n",
    "        pvalue = results[1]\n",
    "        \n",
    "        if pvalue < cutoff:\n",
    "            significant_pairs.append((i, j))"
   ]
  },
  {
   "cell_type": "code",
   "execution_count": 14,
   "metadata": {},
   "outputs": [
    {
     "data": {
      "text/plain": [
       "9.5"
      ]
     },
     "execution_count": 14,
     "metadata": {},
     "output_type": "execute_result"
    }
   ],
   "source": [
    "# what we expected\n",
    "(N * (N-1) / 2) * 0.05"
   ]
  },
  {
   "cell_type": "code",
   "execution_count": 15,
   "metadata": {},
   "outputs": [
    {
     "data": {
      "text/plain": [
       "12"
      ]
     },
     "execution_count": 15,
     "metadata": {},
     "output_type": "execute_result"
    }
   ],
   "source": [
    "# what we actually got\n",
    "len(significant_pairs)"
   ]
  },
  {
   "cell_type": "markdown",
   "metadata": {},
   "source": [
    "## Many Experiments"
   ]
  },
  {
   "cell_type": "code",
   "execution_count": 17,
   "metadata": {},
   "outputs": [],
   "source": [
    "def do_experiment(N, T, cutoff=0.05):\n",
    "    df = pd.DataFrame()\n",
    "\n",
    "    # Make random data\n",
    "    for i in range(N):\n",
    "        X = np.random.normal(0, 1, T)\n",
    "        X = pd.Series(X)\n",
    "        name = 'X%s' % i\n",
    "        df[name] = X\n",
    "\n",
    "    significant_pairs = []\n",
    "\n",
    "    # Look for relationships\n",
    "    for i in range(N):\n",
    "        for j in range(i+1, N):\n",
    "            Xi = df.iloc[:, i]\n",
    "            Xj = df.iloc[:, j]\n",
    "\n",
    "            results = stats.spearmanr(Xi, Xj)\n",
    "\n",
    "            pvalue = results[1]\n",
    "\n",
    "            if pvalue < cutoff:\n",
    "                significant_pairs.append((i, j))\n",
    "    \n",
    "    return significant_pairs\n",
    "\n",
    "\n",
    "num_experiments = 100\n",
    "\n",
    "results = np.zeros((num_experiments,))\n",
    "\n",
    "for i in range(num_experiments):\n",
    "    # Run a single experiment\n",
    "    result = do_experiment(20, 100, cutoff=0.05)\n",
    "    \n",
    "    # Count how many pairs\n",
    "    n = len(result)\n",
    "    \n",
    "    # Add to array\n",
    "    results[i] = n"
   ]
  },
  {
   "cell_type": "code",
   "execution_count": 18,
   "metadata": {},
   "outputs": [
    {
     "data": {
      "text/plain": [
       "9.01"
      ]
     },
     "execution_count": 18,
     "metadata": {},
     "output_type": "execute_result"
    }
   ],
   "source": [
    "np.mean(results)"
   ]
  },
  {
   "cell_type": "markdown",
   "metadata": {},
   "source": [
    "## Visualizing"
   ]
  },
  {
   "cell_type": "code",
   "execution_count": 19,
   "metadata": {},
   "outputs": [],
   "source": [
    "def get_pvalues_from_experiment(N, T):\n",
    "    df = pd.DataFrame()\n",
    "\n",
    "    # Make random data\n",
    "    for i in range(N):\n",
    "        X = np.random.normal(0, 1, T)\n",
    "        X = pd.Series(X)\n",
    "        name = 'X%s' % i\n",
    "        df[name] = X\n",
    "\n",
    "    pvalues = []\n",
    "\n",
    "    # Look for relationships\n",
    "    for i in range(N):\n",
    "        for j in range(i+1, N):\n",
    "            Xi = df.iloc[:, i]\n",
    "            Xj = df.iloc[:, j]\n",
    "\n",
    "            results = stats.spearmanr(Xi, Xj)\n",
    "            pvalue = results[1]\n",
    "            pvalues.append(pvalue)\n",
    "    \n",
    "    return pvalues"
   ]
  },
  {
   "cell_type": "code",
   "execution_count": 26,
   "metadata": {},
   "outputs": [
    {
     "data": {
      "image/png": "[encoded data removed]",
      "text/plain": [
       "<Figure size 1512x504 with 2 Axes>"
      ]
     },
     "metadata": {},
     "output_type": "display_data"
    }
   ],
   "source": [
    "fig, ax = plt.subplots(1, 2, figsize=(21, 7))\n",
    "\n",
    "pvalues = get_pvalues_from_experiment(10, 100)\n",
    "ax[0].hist(pvalues)\n",
    "plt.ylabel('Frequency')\n",
    "plt.title('Observed p-value');\n",
    "\n",
    "pvalues = get_pvalues_from_experiment(50, 100)\n",
    "ax[1].vlines(0.01, 0, 150, colors='r', linestyle='--', label='0.01 Cutoff')\n",
    "ax[1].vlines(0.05, 0, 150, colors='r', label='0.05 Cutoff')\n",
    "ax[1].hist(pvalues, label='P-Value Distribution')\n",
    "plt.legend()\n",
    "plt.ylabel('Frequency')\n",
    "plt.title('Observed p-value');"
   ]
  },
  {
   "cell_type": "code",
   "execution_count": 29,
   "metadata": {},
   "outputs": [],
   "source": [
    "num_experiments = 100\n",
    "\n",
    "results = np.zeros((num_experiments,))\n",
    "\n",
    "for i in range(num_experiments):\n",
    "    # Run a single experiment\n",
    "    result = do_experiment(20, 100, cutoff=0.01)\n",
    "    \n",
    "    # Count how many pairs\n",
    "    n = len(result)\n",
    "    \n",
    "    # Add to array\n",
    "    results[i] = n"
   ]
  },
  {
   "cell_type": "code",
   "execution_count": 30,
   "metadata": {},
   "outputs": [
    {
     "data": {
      "text/plain": [
       "(1.86, 1.9000000000000001)"
      ]
     },
     "execution_count": 30,
     "metadata": {},
     "output_type": "execute_result"
    }
   ],
   "source": [
    "np.mean(results), (N * (N-1) / 2) * 0.01"
   ]
  },
  {
   "cell_type": "markdown",
   "metadata": {},
   "source": [
    "## Reducing Multiple Comparisons Bias"
   ]
  },
  {
   "cell_type": "markdown",
   "metadata": {},
   "source": [
    "### Example: Bon Ferroni Correction"
   ]
  },
  {
   "cell_type": "code",
   "execution_count": 32,
   "metadata": {},
   "outputs": [],
   "source": [
    "num_experiments = 100\n",
    "\n",
    "results = np.zeros((num_experiments,))\n",
    "results_bf = np.zeros((num_experiments,))\n",
    "\n",
    "N = 20\n",
    "T = 100\n",
    "\n",
    "desired_level = 0.05\n",
    "\n",
    "num_tests = N * (N - 1) / 2\n",
    "\n",
    "new_cutoff = desired_level / num_tests\n",
    "\n",
    "for i in range(num_experiments):\n",
    "    # Run a single experiment\n",
    "    result = do_experiment(N, T, cutoff=desired_level)\n",
    "    result_bf = do_experiment(N, T, cutoff=new_cutoff)\n",
    "    \n",
    "    # Count how many pairs\n",
    "    n = len(result)\n",
    "    n_bf = len(result_bf)\n",
    "    \n",
    "    # Add to array\n",
    "    results[i] = n\n",
    "    results_bf[i] = n_bf\n"
   ]
  },
  {
   "cell_type": "code",
   "execution_count": 35,
   "metadata": {},
   "outputs": [
    {
     "data": {
      "text/plain": [
       "array([ 7., 13.,  9.,  9., 12., 11.,  9., 14.,  6.,  8.,  9.,  3., 10.,\n",
       "        7., 11.,  9., 11.,  5., 11., 11., 10., 13., 14., 10., 12., 13.,\n",
       "        7.,  5., 12.,  8., 13.,  6., 12., 13., 16.,  9.,  8.,  9., 14.,\n",
       "       12., 13.,  6.,  3., 11.,  6.,  8.,  9.,  5., 11.,  5.,  7.,  5.,\n",
       "        9., 12., 10., 10.,  4.,  9., 10., 11.,  8.,  9.,  9.,  5., 10.,\n",
       "        4., 10., 11., 10., 11., 11., 13.,  2.,  4.,  8., 12.,  9., 13.,\n",
       "        9., 12.,  9., 12.,  8., 12., 12., 11.,  8.,  7.,  3., 11.,  8.,\n",
       "       10., 10., 12.,  8.,  9.,  8., 11., 12., 13.])"
      ]
     },
     "execution_count": 35,
     "metadata": {},
     "output_type": "execute_result"
    }
   ],
   "source": [
    "results"
   ]
  },
  {
   "cell_type": "code",
   "execution_count": 36,
   "metadata": {},
   "outputs": [
    {
     "data": {
      "text/plain": [
       "array([0., 0., 0., 0., 0., 0., 0., 0., 0., 0., 0., 0., 0., 0., 0., 0., 0.,\n",
       "       0., 0., 0., 0., 0., 0., 0., 0., 0., 0., 0., 0., 0., 0., 0., 0., 0.,\n",
       "       0., 0., 0., 0., 0., 0., 0., 0., 0., 0., 0., 0., 1., 0., 0., 0., 0.,\n",
       "       0., 0., 0., 0., 0., 0., 0., 0., 0., 0., 0., 0., 0., 0., 0., 0., 0.,\n",
       "       0., 0., 0., 0., 0., 0., 0., 0., 0., 0., 0., 0., 0., 0., 0., 0., 0.,\n",
       "       1., 0., 0., 0., 0., 0., 0., 0., 0., 0., 0., 0., 0., 0., 0.])"
      ]
     },
     "execution_count": 36,
     "metadata": {},
     "output_type": "execute_result"
    }
   ],
   "source": [
    "results_bf"
   ]
  },
  {
   "cell_type": "code",
   "execution_count": 34,
   "metadata": {},
   "outputs": [
    {
     "data": {
      "text/plain": [
       "(9.39, 0.02, 9.5)"
      ]
     },
     "execution_count": 34,
     "metadata": {},
     "output_type": "execute_result"
    }
   ],
   "source": [
    "np.mean(results), np.mean(results_bf), (N * (N-1) / 2) * 0.05"
   ]
  },
  {
   "cell_type": "code",
   "execution_count": null,
   "metadata": {},
   "outputs": [],
   "source": []
  }
 ],
 "metadata": {
  "kernelspec": {
   "display_name": "Python 3",
   "language": "python",
   "name": "python3"
  },
  "language_info": {
   "codemirror_mode": {
    "name": "ipython",
    "version": 3
   },
   "file_extension": ".py",
   "mimetype": "text/x-python",
   "name": "python",
   "nbconvert_exporter": "python",
   "pygments_lexer": "ipython3",
   "version": "3.8.5"
  }
 },
 "nbformat": 4,
 "nbformat_minor": 2
}
