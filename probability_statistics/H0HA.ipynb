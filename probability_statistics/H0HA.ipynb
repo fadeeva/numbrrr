{
 "cells": [
  {
   "cell_type": "code",
   "execution_count": 23,
   "metadata": {},
   "outputs": [],
   "source": [
    "import numpy as np\n",
    "import scipy as sp\n",
    "import statsmodels as st\n",
    "\n",
    "import matplotlib.pyplot as plt"
   ]
  },
  {
   "cell_type": "markdown",
   "metadata": {},
   "source": [
    "# Hypothesis"
   ]
  },
  {
   "cell_type": "markdown",
   "metadata": {},
   "source": [
    "## Data"
   ]
  },
  {
   "cell_type": "code",
   "execution_count": 2,
   "metadata": {},
   "outputs": [
    {
     "data": {
      "text/plain": [
       "array([51.06, 55.12, 53.73, 50.24, 52.05, 56.4 , 48.45, 52.34, 55.65,\n",
       "       51.49])"
      ]
     },
     "execution_count": 2,
     "metadata": {},
     "output_type": "execute_result"
    }
   ],
   "source": [
    "data = np.loadtxt('https://github.com/aloctavodia/BAP/raw/refs/heads/master/code/data/chemical_shifts.csv')\n",
    "data[:10]"
   ]
  },
  {
   "cell_type": "code",
   "execution_count": 12,
   "metadata": {},
   "outputs": [
    {
     "data": {
      "text/plain": [
       "array([51.59 , 57.68 , 55.595, 50.36 , 53.075, 59.6  , 47.675, 53.51 ,\n",
       "       58.475, 52.235, 52.79 , 70.145, 54.5  , 59.135, 52.895, 53.465,\n",
       "       53.495, 61.22 , 61.16 , 57.71 , 55.895, 56.93 , 59.135, 77.87 ,\n",
       "       52.04 , 58.205, 51.095, 52.91 , 57.425, 50.585, 54.365, 52.25 ,\n",
       "       54.02 , 46.58 , 49.595, 52.73 , 57.485, 54.26 , 54.785, 56.78 ,\n",
       "       52.19 , 55.595, 52.415, 49.715, 53.63 , 56.45 , 55.76 , 54.74 ])"
      ]
     },
     "execution_count": 12,
     "metadata": {},
     "output_type": "execute_result"
    }
   ],
   "source": [
    "data_2 = data*1.5 - 25\n",
    "data_2"
   ]
  },
  {
   "cell_type": "markdown",
   "metadata": {},
   "source": [
    "## Helpers"
   ]
  },
  {
   "cell_type": "code",
   "execution_count": 3,
   "metadata": {},
   "outputs": [],
   "source": [
    "h0_or_h1 = lambda pvalue: 'HA' if pvalue < 0.05 else 'H0'"
   ]
  },
  {
   "cell_type": "markdown",
   "metadata": {},
   "source": [
    "## Normality. Shapiro-Wilk Test"
   ]
  },
  {
   "cell_type": "code",
   "execution_count": 10,
   "metadata": {},
   "outputs": [
    {
     "name": "stdout",
     "output_type": "stream",
     "text": [
      "ShapiroResult(statistic=0.8256072402000427, pvalue=5.199869974603644e-06)\n",
      "Result: HA\n"
     ]
    }
   ],
   "source": [
    "result = sp.stats.shapiro(data)\n",
    "\n",
    "print(result)\n",
    "print(f'Result: {h0_or_h1(result[1])}')"
   ]
  },
  {
   "cell_type": "markdown",
   "metadata": {},
   "source": [
    "## Student's T-test. ONE group of scores"
   ]
  },
  {
   "cell_type": "code",
   "execution_count": 12,
   "metadata": {},
   "outputs": [
    {
     "name": "stdout",
     "output_type": "stream",
     "text": [
      "Ttest_1sampResult(statistic=106.23530250014758, pvalue=1.2069687179735237e-57)\n",
      "Result: HA\n"
     ]
    }
   ],
   "source": [
    "result = sp.stats.ttest_1samp(data, popmean=0.5)\n",
    "\n",
    "print(result)\n",
    "print(f'Result: {h0_or_h1(result[1])}')"
   ]
  },
  {
   "cell_type": "code",
   "execution_count": 15,
   "metadata": {},
   "outputs": [
    {
     "name": "stdout",
     "output_type": "stream",
     "text": [
      "Ttest_1sampResult(statistic=2.0045736232401867, pvalue=0.05078876575447046)\n",
      "Result: H0\n"
     ]
    }
   ],
   "source": [
    "result = sp.stats.ttest_1samp(data, popmean=data.mean()-1)\n",
    "\n",
    "print(result)\n",
    "print(f'Result: {h0_or_h1(result[1])}')"
   ]
  },
  {
   "cell_type": "markdown",
   "metadata": {},
   "source": [
    "## Student's T-test. TWO independent samples of scores"
   ]
  },
  {
   "cell_type": "code",
   "execution_count": 24,
   "metadata": {},
   "outputs": [
    {
     "name": "stdout",
     "output_type": "stream",
     "text": [
      "Ttest_indResult(statistic=35.112444863717755, pvalue=1.4036363550261703e-56)\n",
      "Result: HA\n"
     ]
    }
   ],
   "source": [
    "rvs = sp.stats.norm.rvs(loc=0, scale=10, size=50)\n",
    "result = sp.stats.ttest_ind(data, rvs)\n",
    "\n",
    "print(result)\n",
    "print(f'Result: {h0_or_h1(result[1])}')"
   ]
  },
  {
   "cell_type": "markdown",
   "metadata": {},
   "source": [
    "## Median"
   ]
  },
  {
   "cell_type": "markdown",
   "metadata": {},
   "source": [
    "### Mann-Whitney. Independent data-sets"
   ]
  },
  {
   "cell_type": "code",
   "execution_count": 16,
   "metadata": {},
   "outputs": [
    {
     "name": "stdout",
     "output_type": "stream",
     "text": [
      "MannwhitneyuResult(statistic=0.0, pvalue=7.671599742405718e-18)\n",
      "Result: HA\n"
     ]
    }
   ],
   "source": [
    "rvs = sp.stats.norm.rvs(loc=0, scale=1, size=50)\n",
    "result = sp.stats.mannwhitneyu(data, rvs)\n",
    "\n",
    "print(result)\n",
    "print(f'Result: {h0_or_h1(result[1])}')"
   ]
  },
  {
   "cell_type": "markdown",
   "metadata": {},
   "source": [
    "### Wilcoxon. Related data-sets"
   ]
  },
  {
   "cell_type": "code",
   "execution_count": 14,
   "metadata": {},
   "outputs": [
    {
     "name": "stdout",
     "output_type": "stream",
     "text": [
      "MannwhitneyuResult(statistic=850.5, pvalue=0.01370411888489348)\n",
      "Result: HA\n"
     ]
    }
   ],
   "source": [
    "result = sp.stats.mannwhitneyu(data, data_2)\n",
    "\n",
    "print(result)\n",
    "print(f'Result: {h0_or_h1(result[1])}')"
   ]
  },
  {
   "cell_type": "markdown",
   "metadata": {},
   "source": [
    "### Mood's Median Test"
   ]
  },
  {
   "cell_type": "code",
   "execution_count": 15,
   "metadata": {},
   "outputs": [
    {
     "name": "stdout",
     "output_type": "stream",
     "text": [
      "(78.08333333333333, 1.1076934875089666e-17, 51.894999999999996, array([[33, 40,  0],\n",
      "       [15,  8, 50]], dtype=int64))\n",
      "Result: HA\n"
     ]
    }
   ],
   "source": [
    "rvs = sp.stats.norm.rvs(loc=0, scale=1, size=50)\n",
    "result = sp.stats.median_test(data, data_2, rvs)\n",
    "\n",
    "print(result)\n",
    "print(f'Result: {h0_or_h1(result[1])}')"
   ]
  },
  {
   "cell_type": "markdown",
   "metadata": {},
   "source": [
    "## Variance"
   ]
  },
  {
   "cell_type": "code",
   "execution_count": 16,
   "metadata": {},
   "outputs": [
    {
     "name": "stdout",
     "output_type": "stream",
     "text": [
      "FlignerResult(statistic=4.419575689770522, pvalue=0.03552887018892202)\n",
      "Result: HA\n"
     ]
    }
   ],
   "source": [
    "result = sp.stats.fligner(data, data_2)\n",
    "\n",
    "print(result)\n",
    "print(f'Result: {h0_or_h1(result[1])}')"
   ]
  },
  {
   "cell_type": "markdown",
   "metadata": {},
   "source": [
    "## Proportion. Chi-square test"
   ]
  },
  {
   "cell_type": "code",
   "execution_count": 17,
   "metadata": {},
   "outputs": [
    {
     "name": "stdout",
     "output_type": "stream",
     "text": [
      "Power_divergenceResult(statistic=4.4613344984688315, pvalue=0.9999999999999999)\n",
      "Result: H0\n"
     ]
    }
   ],
   "source": [
    "result = sp.stats.chisquare(data, data_2)\n",
    "\n",
    "print(result)\n",
    "print(f'Result: {h0_or_h1(result[1])}')"
   ]
  },
  {
   "cell_type": "markdown",
   "metadata": {},
   "source": [
    "## Correlation"
   ]
  },
  {
   "cell_type": "markdown",
   "metadata": {},
   "source": [
    "### Pearson for normal data"
   ]
  },
  {
   "cell_type": "code",
   "execution_count": 41,
   "metadata": {},
   "outputs": [
    {
     "name": "stdout",
     "output_type": "stream",
     "text": [
      "(0.10682237624256236, 0.4602957584740069)\n"
     ]
    }
   ],
   "source": [
    "rvs_1 = sp.stats.norm.rvs(loc=0, scale=1, size=50)\n",
    "rvs_2 = sp.stats.norm.rvs(loc=-1, scale=2, size=50)\n",
    "result = sp.stats.pearsonr(rvs_1, rvs_2)\n",
    "\n",
    "print(result)"
   ]
  },
  {
   "cell_type": "code",
   "execution_count": 42,
   "metadata": {},
   "outputs": [
    {
     "data": {
      "text/plain": [
       "<matplotlib.legend.Legend at 0xd021af0>"
      ]
     },
     "execution_count": 42,
     "metadata": {},
     "output_type": "execute_result"
    },
    {
     "data": {
      "image/png": "[encoded data removed]",
      "text/plain": [
       "<Figure size 432x288 with 1 Axes>"
      ]
     },
     "metadata": {
      "needs_background": "dark"
     },
     "output_type": "display_data"
    }
   ],
   "source": [
    "plt.scatter(np.linspace(0, 1, len(rvs_1)), rvs_1, label='rvs_1')\n",
    "plt.scatter(np.linspace(0, 1, len(rvs_1)), rvs_2, label='rvs_2')\n",
    "plt.legend()"
   ]
  },
  {
   "cell_type": "markdown",
   "metadata": {},
   "source": [
    "### Kendall’s tau for ordinal data"
   ]
  },
  {
   "cell_type": "code",
   "execution_count": 18,
   "metadata": {},
   "outputs": [
    {
     "name": "stdout",
     "output_type": "stream",
     "text": [
      "KendalltauResult(correlation=0.96994788905227, pvalue=2.149611161436706e-19)\n"
     ]
    }
   ],
   "source": [
    "result = sp.stats.kendalltau(np.vectorize(int)(data), np.vectorize(int)(data_2))\n",
    "\n",
    "print(result)"
   ]
  },
  {
   "cell_type": "code",
   "execution_count": 39,
   "metadata": {},
   "outputs": [
    {
     "data": {
      "text/plain": [
       "<matplotlib.legend.Legend at 0xcee2e68>"
      ]
     },
     "execution_count": 39,
     "metadata": {},
     "output_type": "execute_result"
    },
    {
     "data": {
      "image/png": "[encoded data removed]",
      "text/plain": [
       "<Figure size 432x288 with 1 Axes>"
      ]
     },
     "metadata": {
      "needs_background": "dark"
     },
     "output_type": "display_data"
    }
   ],
   "source": [
    "plt.scatter(np.linspace(0, 1, len(data)), data, label='data')\n",
    "plt.scatter(np.linspace(0, 1, len(data)), data_2, label='data_2')\n",
    "plt.legend()"
   ]
  },
  {
   "cell_type": "markdown",
   "metadata": {},
   "source": [
    "### Spearman"
   ]
  },
  {
   "cell_type": "code",
   "execution_count": 36,
   "metadata": {},
   "outputs": [
    {
     "name": "stdout",
     "output_type": "stream",
     "text": [
      "SpearmanrResult(correlation=-0.19090267628405236, pvalue=0.19369010753519458)\n"
     ]
    }
   ],
   "source": [
    "rvs_1 = sp.stats.norm.rvs(loc=data.mean(), scale=data.std(), size=len(data))\n",
    "result = sp.stats.spearmanr(data, rvs_1)\n",
    "\n",
    "print(result)"
   ]
  },
  {
   "cell_type": "code",
   "execution_count": 38,
   "metadata": {},
   "outputs": [
    {
     "data": {
      "text/plain": [
       "<matplotlib.legend.Legend at 0xceab130>"
      ]
     },
     "execution_count": 38,
     "metadata": {},
     "output_type": "execute_result"
    },
    {
     "data": {
      "image/png": "[encoded data removed]",
      "text/plain": [
       "<Figure size 432x288 with 1 Axes>"
      ]
     },
     "metadata": {
      "needs_background": "dark"
     },
     "output_type": "display_data"
    }
   ],
   "source": [
    "plt.scatter(np.linspace(0, 1, len(data)), data, label='data')\n",
    "plt.scatter(np.linspace(0, 1, len(data)), rvs_1, label='rvs_1')\n",
    "plt.legend()"
   ]
  },
  {
   "cell_type": "code",
   "execution_count": null,
   "metadata": {},
   "outputs": [],
   "source": []
  }
 ],
 "metadata": {
  "kernelspec": {
   "display_name": "Python 3",
   "language": "python",
   "name": "python3"
  },
  "language_info": {
   "codemirror_mode": {
    "name": "ipython",
    "version": 3
   },
   "file_extension": ".py",
   "mimetype": "text/x-python",
   "name": "python",
   "nbconvert_exporter": "python",
   "pygments_lexer": "ipython3",
   "version": "3.8.5"
  }
 },
 "nbformat": 4,
 "nbformat_minor": 2
}
