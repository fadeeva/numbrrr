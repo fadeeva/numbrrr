{
 "cells": [
  {
   "cell_type": "code",
   "execution_count": 1,
   "metadata": {},
   "outputs": [],
   "source": [
    "import numpy as np\n",
    "import scipy as sp\n",
    "import statsmodels as st"
   ]
  },
  {
   "cell_type": "markdown",
   "metadata": {},
   "source": [
    "# Hypothesis"
   ]
  },
  {
   "cell_type": "markdown",
   "metadata": {},
   "source": [
    "## Data"
   ]
  },
  {
   "cell_type": "code",
   "execution_count": 2,
   "metadata": {},
   "outputs": [
    {
     "data": {
      "text/plain": [
       "array([51.06, 55.12, 53.73, 50.24, 52.05, 56.4 , 48.45, 52.34, 55.65,\n",
       "       51.49])"
      ]
     },
     "execution_count": 2,
     "metadata": {},
     "output_type": "execute_result"
    }
   ],
   "source": [
    "data = np.loadtxt('https://github.com/aloctavodia/BAP/raw/refs/heads/master/code/data/chemical_shifts.csv')\n",
    "data[:10]"
   ]
  },
  {
   "cell_type": "markdown",
   "metadata": {},
   "source": [
    "## Helpers"
   ]
  },
  {
   "cell_type": "code",
   "execution_count": 3,
   "metadata": {},
   "outputs": [],
   "source": [
    "h0_or_h1 = lambda pvalue: 'HA' if pvalue < 0.05 else 'H0'"
   ]
  },
  {
   "cell_type": "markdown",
   "metadata": {},
   "source": [
    "## Normality. Shapiro-Wilk Test"
   ]
  },
  {
   "cell_type": "code",
   "execution_count": 10,
   "metadata": {},
   "outputs": [
    {
     "name": "stdout",
     "output_type": "stream",
     "text": [
      "ShapiroResult(statistic=0.8256072402000427, pvalue=5.199869974603644e-06)\n",
      "Result: HA\n"
     ]
    }
   ],
   "source": [
    "result = sp.stats.shapiro(data)\n",
    "\n",
    "print(result)\n",
    "print(f'Result: {h0_or_h1(result[1])}')"
   ]
  },
  {
   "cell_type": "markdown",
   "metadata": {},
   "source": [
    "## Student's T-test. ONE group of scores"
   ]
  },
  {
   "cell_type": "code",
   "execution_count": 12,
   "metadata": {},
   "outputs": [
    {
     "name": "stdout",
     "output_type": "stream",
     "text": [
      "Ttest_1sampResult(statistic=106.23530250014758, pvalue=1.2069687179735237e-57)\n",
      "Result: HA\n"
     ]
    }
   ],
   "source": [
    "result = sp.stats.ttest_1samp(data, popmean=0.5)\n",
    "\n",
    "print(result)\n",
    "print(f'Result: {h0_or_h1(result[1])}')"
   ]
  },
  {
   "cell_type": "code",
   "execution_count": 15,
   "metadata": {},
   "outputs": [
    {
     "name": "stdout",
     "output_type": "stream",
     "text": [
      "Ttest_1sampResult(statistic=2.0045736232401867, pvalue=0.05078876575447046)\n",
      "Result: H0\n"
     ]
    }
   ],
   "source": [
    "result = sp.stats.ttest_1samp(data, popmean=data.mean()-1)\n",
    "\n",
    "print(result)\n",
    "print(f'Result: {h0_or_h1(result[1])}')"
   ]
  },
  {
   "cell_type": "markdown",
   "metadata": {},
   "source": [
    "## Student's T-test. TWO independent samples of scores"
   ]
  },
  {
   "cell_type": "code",
   "execution_count": 24,
   "metadata": {},
   "outputs": [
    {
     "name": "stdout",
     "output_type": "stream",
     "text": [
      "Ttest_indResult(statistic=35.112444863717755, pvalue=1.4036363550261703e-56)\n",
      "Result: HA\n"
     ]
    }
   ],
   "source": [
    "rvs = sp.stats.norm.rvs(loc=0, scale=10, size=50)\n",
    "result = sp.stats.ttest_ind(data, rvs)\n",
    "\n",
    "print(result)\n",
    "print(f'Result: {h0_or_h1(result[1])}')"
   ]
  },
  {
   "cell_type": "markdown",
   "metadata": {},
   "source": [
    "## Median"
   ]
  },
  {
   "cell_type": "markdown",
   "metadata": {},
   "source": [
    "### Mann-Whitney. Independent data-sets"
   ]
  },
  {
   "cell_type": "code",
   "execution_count": 16,
   "metadata": {},
   "outputs": [
    {
     "name": "stdout",
     "output_type": "stream",
     "text": [
      "MannwhitneyuResult(statistic=0.0, pvalue=7.671599742405718e-18)\n",
      "Result: HA\n"
     ]
    }
   ],
   "source": [
    "rvs = sp.stats.norm.rvs(loc=0, scale=1, size=50)\n",
    "result = sp.stats.mannwhitneyu(data, rvs)\n",
    "\n",
    "print(result)\n",
    "print(f'Result: {h0_or_h1(result[1])}')"
   ]
  },
  {
   "cell_type": "markdown",
   "metadata": {},
   "source": [
    "### Wilcoxon. Related data-sets"
   ]
  },
  {
   "cell_type": "code",
   "execution_count": 14,
   "metadata": {},
   "outputs": [
    {
     "name": "stdout",
     "output_type": "stream",
     "text": [
      "MannwhitneyuResult(statistic=671.5, pvalue=0.00021796236396992233)\n",
      "Result: HA\n"
     ]
    }
   ],
   "source": [
    "data_2 = data*2 - 50\n",
    "result = sp.stats.mannwhitneyu(data, data_2)\n",
    "\n",
    "print(result)\n",
    "print(f'Result: {h0_or_h1(result[1])}')"
   ]
  },
  {
   "cell_type": "markdown",
   "metadata": {},
   "source": [
    "### Mood's Median Test"
   ]
  },
  {
   "cell_type": "code",
   "execution_count": 20,
   "metadata": {},
   "outputs": [
    {
     "name": "stdout",
     "output_type": "stream",
     "text": [
      "(79.41666666666666, 5.687087991280189e-18, 51.935, array([[32, 41,  0],\n",
      "       [16,  7, 50]], dtype=int64))\n",
      "Result: HA\n"
     ]
    }
   ],
   "source": [
    "data_2 = data*2 - 50\n",
    "rvs = sp.stats.norm.rvs(loc=0, scale=1, size=50)\n",
    "result = sp.stats.median_test(data, data_2, rvs)\n",
    "\n",
    "print(result)\n",
    "print(f'Result: {h0_or_h1(result[1])}')"
   ]
  },
  {
   "cell_type": "markdown",
   "metadata": {},
   "source": [
    "## Variance"
   ]
  },
  {
   "cell_type": "code",
   "execution_count": 7,
   "metadata": {},
   "outputs": [
    {
     "name": "stdout",
     "output_type": "stream",
     "text": [
      "FlignerResult(statistic=4.419575689770522, pvalue=0.03552887018892202)\n",
      "Result: HA\n"
     ]
    }
   ],
   "source": [
    "data_2 = data*1.5 - 50\n",
    "result = sp.stats.fligner(data, data_2)\n",
    "\n",
    "print(result)\n",
    "print(f'Result: {h0_or_h1(result[1])}')"
   ]
  },
  {
   "cell_type": "markdown",
   "metadata": {},
   "source": [
    "## Proportion"
   ]
  },
  {
   "cell_type": "code",
   "execution_count": null,
   "metadata": {},
   "outputs": [],
   "source": []
  },
  {
   "cell_type": "markdown",
   "metadata": {},
   "source": [
    "## Correlation"
   ]
  },
  {
   "cell_type": "markdown",
   "metadata": {},
   "source": [
    "### Pearson for normal data"
   ]
  },
  {
   "cell_type": "code",
   "execution_count": 24,
   "metadata": {},
   "outputs": [
    {
     "name": "stdout",
     "output_type": "stream",
     "text": [
      "(0.10002779772543781, 0.4894712437225972)\n",
      "Result: H0\n"
     ]
    }
   ],
   "source": [
    "rvs_1 = sp.stats.norm.rvs(loc=0, scale=1, size=50)\n",
    "rvs_2 = sp.stats.norm.rvs(loc=-1, scale=2, size=50)\n",
    "result = sp.stats.pearsonr(rvs_1, rvs_2)\n",
    "\n",
    "print(result)\n",
    "print(f'Result: {h0_or_h1(result[1])}')"
   ]
  },
  {
   "cell_type": "markdown",
   "metadata": {},
   "source": [
    "### Kendall’s tau for ordinal data"
   ]
  },
  {
   "cell_type": "code",
   "execution_count": 22,
   "metadata": {},
   "outputs": [
    {
     "name": "stdout",
     "output_type": "stream",
     "text": [
      "KendalltauResult(correlation=0.96994788905227, pvalue=2.149611161436706e-19)\n",
      "Result: HA\n"
     ]
    }
   ],
   "source": [
    "data_2 = data*1.5 - 25\n",
    "result = sp.stats.kendalltau(np.vectorize(int)(data), np.vectorize(int)(data_2))\n",
    "\n",
    "print(result)\n",
    "print(f'Result: {h0_or_h1(result[1])}')"
   ]
  },
  {
   "cell_type": "code",
   "execution_count": null,
   "metadata": {},
   "outputs": [],
   "source": []
  }
 ],
 "metadata": {
  "kernelspec": {
   "display_name": "Python 3",
   "language": "python",
   "name": "python3"
  },
  "language_info": {
   "codemirror_mode": {
    "name": "ipython",
    "version": 3
   },
   "file_extension": ".py",
   "mimetype": "text/x-python",
   "name": "python",
   "nbconvert_exporter": "python",
   "pygments_lexer": "ipython3",
   "version": "3.8.5"
  }
 },
 "nbformat": 4,
 "nbformat_minor": 2
}
