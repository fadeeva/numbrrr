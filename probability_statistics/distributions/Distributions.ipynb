{
 "cells": [
  {
   "cell_type": "markdown",
   "metadata": {},
   "source": [
    "# Distributions"
   ]
  },
  {
   "cell_type": "code",
   "execution_count": 1,
   "metadata": {},
   "outputs": [],
   "source": [
    "import numpy as np\n",
    "\n",
    "import scipy.stats as sps\n",
    "\n",
    "import matplotlib.pyplot as plt\n",
    "\n",
    "jtplot.style(figsize=(15, 9))"
   ]
  },
  {
   "cell_type": "code",
   "execution_count": 40,
   "metadata": {},
   "outputs": [
    {
     "name": "stdout",
     "output_type": "stream",
     "text": [
      "PDF:\t[0.00125654 0.00125794 0.00125934 0.00126071 0.00126208]\n",
      "CDF:\t [0.25249254 0.36944134 0.5        0.63055866 0.74750746]\n"
     ]
    }
   ],
   "source": [
    "print(f'PDF:\\t{sps.norm(loc=100, scale=300).pdf([-1, 0, 1, 2, 3])}')\n",
    "print(f'CDF:\\t {sps.norm(loc=1, scale=3).cdf([-1, 0, 1, 2, 3])}')"
   ]
  },
  {
   "cell_type": "markdown",
   "metadata": {},
   "source": [
    "## Continuous Distributions"
   ]
  },
  {
   "cell_type": "markdown",
   "metadata": {},
   "source": [
    "### Normal Distribution"
   ]
  },
  {
   "cell_type": "code",
   "execution_count": 3,
   "metadata": {},
   "outputs": [
    {
     "name": "stdout",
     "output_type": "stream",
     "text": [
      "First 5 values: [-1.02288555 -0.20993488  0.52874553 -0.99022138  0.74552384]\n",
      "Mean: -0.072\n",
      "Variance: 1.070\n"
     ]
    }
   ],
   "source": [
    "sample = sps.norm().rvs(size=200)\n",
    "print(f'First 5 values: {sample[:5]}')\n",
    "print(f'Mean: {sample.mean():.3f}')\n",
    "print(f'Variance: {sample.var():.3f}')"
   ]
  },
  {
   "cell_type": "code",
   "execution_count": 19,
   "metadata": {},
   "outputs": [
    {
     "data": {
      "text/plain": [
       "(0.003969525474770118, 0.539827837277029, -164.48536269514727)"
      ]
     },
     "execution_count": 19,
     "metadata": {},
     "output_type": "execute_result"
    }
   ],
   "source": [
    "sps.norm.pdf(10, loc=0, scale=100), sps.norm.cdf(10, loc=0, scale=100), sps.norm.ppf(0.05, loc=0, scale=100)"
   ]
  },
  {
   "cell_type": "markdown",
   "metadata": {},
   "source": [
    "## Discrete distributions"
   ]
  },
  {
   "cell_type": "markdown",
   "metadata": {},
   "source": [
    "### Discrete uniform distribution"
   ]
  },
  {
   "cell_type": "code",
   "execution_count": 3,
   "metadata": {},
   "outputs": [
    {
     "data": {
      "text/plain": [
       "(array(0.5), array(0.08333333), array(0.), array(-1.2))"
      ]
     },
     "execution_count": 3,
     "metadata": {},
     "output_type": "execute_result"
    }
   ],
   "source": [
    "mean, var, skew, kurt = sps.uniform.stats(moments='mvsk')\n",
    "mean, var, skew, kurt"
   ]
  },
  {
   "cell_type": "code",
   "execution_count": 6,
   "metadata": {},
   "outputs": [
    {
     "data": {
      "image/png": "[encoded data removed]",
      "text/plain": [
       "<Figure size 864x518.4 with 1 Axes>"
      ]
     },
     "metadata": {},
     "output_type": "display_data"
    }
   ],
   "source": [
    "fig, ax = plt.subplots(1, 1)\n",
    "x = np.linspace(0.01, 0.99, 100)\n",
    "ax.plot(x, sps.uniform.pdf(x), 'r-', lw=2, alpha=0.6, label='uniform pdf')\n",
    "\n",
    "# rv = stats.uniform()\n",
    "# ax.plot(x, rv.pdf(x), 'k-', lw=1, label='frozen pdf')\n",
    "\n",
    "r = sps.uniform.rvs(size=1000)\n",
    "ax.hist(r, density=True, bins='auto', histtype='stepfilled', alpha=0.5)\n",
    "ax.set_xlim([x[0], x[-1]])\n",
    "ax.legend(loc='best', frameon=False)\n",
    "plt.show()"
   ]
  },
  {
   "cell_type": "code",
   "execution_count": 8,
   "metadata": {},
   "outputs": [
    {
     "data": {
      "text/plain": [
       "True"
      ]
     },
     "execution_count": 8,
     "metadata": {},
     "output_type": "execute_result"
    }
   ],
   "source": [
    "vals = sps.uniform.ppf([0.001, 0.5, 0.999])\n",
    "np.allclose([0.001, 0.5, 0.999], sps.uniform.cdf(vals))"
   ]
  },
  {
   "cell_type": "code",
   "execution_count": null,
   "metadata": {},
   "outputs": [],
   "source": []
  }
 ],
 "metadata": {
  "kernelspec": {
   "display_name": "Python 3",
   "language": "python",
   "name": "python3"
  },
  "language_info": {
   "codemirror_mode": {
    "name": "ipython",
    "version": 3
   },
   "file_extension": ".py",
   "mimetype": "text/x-python",
   "name": "python",
   "nbconvert_exporter": "python",
   "pygments_lexer": "ipython3",
   "version": "3.8.5"
  }
 },
 "nbformat": 4,
 "nbformat_minor": 2
}
